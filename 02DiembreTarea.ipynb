{
  "nbformat": 4,
  "nbformat_minor": 0,
  "metadata": {
    "colab": {
      "name": "02DiembreTarea.ipynb",
      "provenance": [],
      "authorship_tag": "ABX9TyOzldKSBiV6KylrR+6SL740",
      "include_colab_link": true
    },
    "kernelspec": {
      "name": "python3",
      "display_name": "Python 3"
    }
  },
  "cells": [
    {
      "cell_type": "markdown",
      "metadata": {
        "id": "view-in-github",
        "colab_type": "text"
      },
      "source": [
        "<a href=\"https://colab.research.google.com/github/NetzaiHernandez/daa_2021_1/blob/master/02DiembreTarea.ipynb\" target=\"_parent\"><img src=\"https://colab.research.google.com/assets/colab-badge.svg\" alt=\"Open In Colab\"/></a>"
      ]
    },
    {
      "cell_type": "code",
      "metadata": {
        "colab": {
          "base_uri": "https://localhost:8080/"
        },
        "id": "_JvhFw2MLCW3",
        "outputId": "4944ff98-2a68-447a-8782-7d4921d40770"
      },
      "source": [
        "lista = [1,2,3,4,5,6,7,8,9,10]\n",
        "\n",
        "def sumaLista(lista):\n",
        "\n",
        "  if lista == []:\n",
        "    suma=0\n",
        "  else:\n",
        "    suma= lista[0] + sumaLista(lista[1:])\n",
        "  return suma\n",
        "\n",
        "print(sumaLista(lista))\n"
      ],
      "execution_count": null,
      "outputs": [
        {
          "output_type": "stream",
          "text": [
            "55\n"
          ],
          "name": "stdout"
        }
      ]
    },
    {
      "cell_type": "code",
      "metadata": {
        "colab": {
          "base_uri": "https://localhost:8080/"
        },
        "id": "M7sKDdLwbOLH",
        "outputId": "ad3935dc-88f8-471c-f83b-e38284b09e77"
      },
      "source": [
        "def ContRe(a):\n",
        "  if a ==0:\n",
        "    print(\"fin del conteo regresivo\")\n",
        "  else:\n",
        "    print(a)\n",
        "    ContRe(a-1)\n",
        "\n",
        "\n",
        "ContRe(10)"
      ],
      "execution_count": null,
      "outputs": [
        {
          "output_type": "stream",
          "text": [
            "10\n",
            "9\n",
            "8\n",
            "7\n",
            "6\n",
            "5\n",
            "4\n",
            "3\n",
            "2\n",
            "1\n",
            "fin del conteo\n"
          ],
          "name": "stdout"
        }
      ]
    },
    {
      "cell_type": "code",
      "metadata": {
        "colab": {
          "base_uri": "https://localhost:8080/"
        },
        "id": "ZO0mM3J4eQm2",
        "outputId": "6d799402-9e31-4ef1-ec15-4d14313fd1a6"
      },
      "source": [
        "def ContRe(a):\n",
        "  if a ==0:\n",
        "    pass\n",
        "  else:\n",
        "    print(a)\n",
        "    ContRe(a-1)\n",
        "\n",
        "\n",
        "ContRe(10)"
      ],
      "execution_count": null,
      "outputs": [
        {
          "output_type": "stream",
          "text": [
            "10\n",
            "9\n",
            "8\n",
            "7\n",
            "6\n",
            "5\n",
            "4\n",
            "3\n",
            "2\n",
            "1\n"
          ],
          "name": "stdout"
        }
      ]
    },
    {
      "cell_type": "code",
      "metadata": {
        "id": "DMCuUsWgemMh",
        "colab": {
          "base_uri": "https://localhost:8080/"
        },
        "outputId": "ff8fbd7e-a71d-482c-e0f0-6f20ced638e3"
      },
      "source": [
        "pila=[1,2,3,4,5,6,7,8,9]\n",
        "\n",
        "\n",
        "def ADT(pila):\n",
        "\n",
        "  aux=0\n",
        "  if aux==0:\n",
        "    aux+=1\n",
        "    middle = len(pila)//2\n",
        "    print(pila)\n",
        "    print(\"Salio\"+str(pila[len(pila)//2]))\n",
        "    pila.pop(middle)\n",
        "    \n",
        "  \n",
        "  if(len(pila)>=3):\n",
        "    ADT(pila)\n",
        "  else:\n",
        "    print(pila)\n",
        "    print(\"Termino :3\")\n",
        "\n",
        "\n",
        "\n",
        "ADT(pila)\n",
        "\n",
        "##No pude profe peyon :C"
      ],
      "execution_count": 25,
      "outputs": [
        {
          "output_type": "stream",
          "text": [
            "[1, 2, 3, 4, 5, 6, 7, 8, 9]\n",
            "Salio5\n",
            "[1, 2, 3, 4, 6, 7, 8, 9]\n",
            "Salio6\n",
            "[1, 2, 3, 4, 7, 8, 9]\n",
            "Salio4\n",
            "[1, 2, 3, 7, 8, 9]\n",
            "Salio7\n",
            "[1, 2, 3, 8, 9]\n",
            "Salio3\n",
            "[1, 2, 8, 9]\n",
            "Salio8\n",
            "[1, 2, 9]\n",
            "Salio2\n",
            "[1, 9]\n",
            "Termino :3\n"
          ],
          "name": "stdout"
        }
      ]
    }
  ]
}