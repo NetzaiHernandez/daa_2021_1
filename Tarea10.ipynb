{
  "nbformat": 4,
  "nbformat_minor": 0,
  "metadata": {
    "colab": {
      "name": "Tarea10.ipynb",
      "provenance": [],
      "authorship_tag": "ABX9TyOjsdPqx9oHDmJhnIeTX81p",
      "include_colab_link": true
    },
    "kernelspec": {
      "name": "python3",
      "display_name": "Python 3"
    }
  },
  "cells": [
    {
      "cell_type": "markdown",
      "metadata": {
        "id": "view-in-github",
        "colab_type": "text"
      },
      "source": [
        "<a href=\"https://colab.research.google.com/github/NetzaiHernandez/daa_2021_1/blob/master/Tarea10.ipynb\" target=\"_parent\"><img src=\"https://colab.research.google.com/assets/colab-badge.svg\" alt=\"Open In Colab\"/></a>"
      ]
    },
    {
      "cell_type": "code",
      "metadata": {
        "colab": {
          "base_uri": "https://localhost:8080/"
        },
        "id": "T09FkTOc0fAq",
        "outputId": "ebaec9aa-c356-407d-d9c2-0a9976156097"
      },
      "source": [
        "class Nodo:\r\n",
        "\r\n",
        "    def __init__(self, data):\r\n",
        "        self.data = data\r\n",
        "        self.izquierda = None\r\n",
        "        self.derecha = None\r\n",
        "\r\n",
        "\r\n",
        "class NodomasAlto:\r\n",
        "\r\n",
        "    def encontrar(self, arbolitobb, nivel, nivel_max, res):\r\n",
        "\r\n",
        "        if arbolitobb !=None:\r\n",
        "            nivel+=1\r\n",
        "            self.encontrar(arbolitobb.izquierda, nivel, nivel_max, res)\r\n",
        "\r\n",
        "            if nivel > nivel_max[0]:\r\n",
        "\r\n",
        "                res[0] = arbolitobb.data\r\n",
        "                nivel_max[0] = nivel\r\n",
        "\r\n",
        "            self.encontrar(arbolitobb.derecha, nivel, nivel_max, res)\r\n",
        "\r\n",
        "    def Nodoprofundo(self,arbolitobb):\r\n",
        "\r\n",
        "        res = [-1]\r\n",
        "        nivel_max = [-1]\r\n",
        "\r\n",
        "        self.encontrar(arbolitobb, 0, nivel_max, res)\r\n",
        "        return res[0]\r\n",
        "\r\n",
        "def main():\r\n",
        "\r\n",
        "    \"\"\"\r\n",
        "    arbolitobb = Nodo(\"D\")\r\n",
        "    arbolitobb.izquierda = Nodo(\"R\")\r\n",
        "    arbolitobb.derecha = Nodo(\"M\")\r\n",
        "    arbolitobb.izquierda.izquierda = Nodo(\"C\")\r\n",
        "    arbolitobb.izquierda.derecha = Nodo(\"H\")\r\n",
        "    arbolitobb.derecha.derecha = Nodo(\"A\")\r\n",
        "    arbolitobb.derecha.izquierda = Nodo(\"S\")\r\n",
        "    arbolitobb.derecha.derecha.derecha = Nodo(\"J\")\r\n",
        "    arbolitobb.derecha.izquierda.izquierda = Nodo(\"B\")\r\n",
        "    \"\"\"\r\n",
        "    \"\"\"\r\n",
        "    arbolitobb = Nodo(10)\r\n",
        "    arbolitobb.izquierda = Nodo(5)\r\n",
        "    arbolitobb.derecha = Nodo(40)\r\n",
        "    arbolitobb.izquierda.izquierda = Nodo(1)\r\n",
        "    arbolitobb.izquierda.derecha = Nodo(7)\r\n",
        "    arbolitobb.derecha.derecha = Nodo(50)\r\n",
        "    \"\"\"\r\n",
        "    \"\"\"\r\n",
        "    arbolitobb = Nodo(1)\r\n",
        "    arbolitobb.izquierda = Nodo(2)\r\n",
        "    arbolitobb.derecha = Nodo(3)\r\n",
        "    arbolitobb.izquierda.izquierda = Nodo(4)\r\n",
        "    arbolitobb.izquierda.derecha = Nodo(5)\r\n",
        "    arbolitobb.derecha.izquierda = Nodo(6)\r\n",
        "    arbolitobb.derecha.derecha= Nodo(7)\r\n",
        "    arbolitobb.derecha.derecha.derecha=Nodo(8)\r\n",
        "    \"\"\"\r\n",
        "    \r\n",
        "    arbolitobb = Nodo(\"Netzai\")\r\n",
        "    arbolitobb.izquierda = Nodo(\"Luis\")\r\n",
        "    arbolitobb.derecha = Nodo(\"Juan\")\r\n",
        "    arbolitobb.izquierda.izquierda = Nodo(\"Justyn\")\r\n",
        "    \r\n",
        "    \"\"\"\r\n",
        "    arbolitobb = Nodo(\"Portilla\")\r\n",
        "    arbolitobb.izquierda = Nodo(\"Salomon\")\r\n",
        "    arbolitobb.derecha = Nodo(\"Betancourt\")\r\n",
        "    arbolitobb.izquierda.izquierda= Nodo(\"Luis\")\r\n",
        "    \"\"\"\r\n",
        "\r\n",
        "    n = NodomasAlto()\r\n",
        "    print('El nodo mas profundo es', n.Nodoprofundo(arbolitobb))\r\n",
        "\r\n",
        "\r\n",
        "if __name__=='__main__':\r\n",
        "    main()"
      ],
      "execution_count": 13,
      "outputs": [
        {
          "output_type": "stream",
          "text": [
            "El nodo mas profundo es Luis\n"
          ],
          "name": "stdout"
        }
      ]
    }
  ]
}