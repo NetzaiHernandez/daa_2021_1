{
  "nbformat": 4,
  "nbformat_minor": 0,
  "metadata": {
    "colab": {
      "name": "28septiembre.ipynb",
      "provenance": [],
      "authorship_tag": "ABX9TyNzzfN7x7CxO6JFI5uS4wju",
      "include_colab_link": true
    },
    "kernelspec": {
      "name": "python3",
      "display_name": "Python 3"
    }
  },
  "cells": [
    {
      "cell_type": "markdown",
      "metadata": {
        "id": "view-in-github",
        "colab_type": "text"
      },
      "source": [
        "<a href=\"https://colab.research.google.com/github/NetzaiHernandez/daa_2021_1/blob/master/28septiembre.ipynb\" target=\"_parent\"><img src=\"https://colab.research.google.com/assets/colab-badge.svg\" alt=\"Open In Colab\"/></a>"
      ]
    },
    {
      "cell_type": "code",
      "metadata": {
        "id": "Ia0Mw_svCngp"
      },
      "source": [
        ""
      ],
      "execution_count": null,
      "outputs": []
    },
    {
      "cell_type": "markdown",
      "metadata": {
        "id": "PImWYm5OCrGB"
      },
      "source": [
        "\n"
      ]
    },
    {
      "cell_type": "markdown",
      "metadata": {
        "id": "tF2G5Wu6Czl5"
      },
      "source": [
        "# Sección 1\n"
      ]
    },
    {
      "cell_type": "markdown",
      "metadata": {
        "id": "bl0fCFeZC6r6"
      },
      "source": [
        "En este archivo aprenderemos a programar en pyhton con la herramienta google colabresearch\n",
        "tambien aprenderemos a guardar nuestros cambios a nuestro repositorio de github"
      ]
    },
    {
      "cell_type": "markdown",
      "metadata": {
        "id": "QxS5evdhDyUs"
      },
      "source": [
        "## Código de ejemplo\n",
        "`edad = 10 print(edad)`\n"
      ]
    },
    {
      "cell_type": "code",
      "metadata": {
        "id": "omHtA7oXG-_H",
        "outputId": "9de1112a-3375-435f-e104-e99911f48999",
        "colab": {
          "base_uri": "https://localhost:8080/",
          "height": 35
        }
      },
      "source": [
        "frutas = []\n",
        "frutas.append('Manzana')\n",
        "frutas.append('Piña')\n",
        "frutas.append('kiwi')\n",
        "print(frutas)"
      ],
      "execution_count": 1,
      "outputs": [
        {
          "output_type": "stream",
          "text": [
            "['Manzana', 'Piña', 'kiwi']\n"
          ],
          "name": "stdout"
        }
      ]
    },
    {
      "cell_type": "code",
      "metadata": {
        "id": "abMnF9lgHwJ8"
      },
      "source": [
        "archivo = open('prueba_daa.txt','wt')\n",
        "archivo.write(\"Hola mundo bb\")\n",
        "archivo.close()\n",
        " "
      ],
      "execution_count": 3,
      "outputs": []
    }
  ]
}