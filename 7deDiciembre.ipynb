{
  "nbformat": 4,
  "nbformat_minor": 0,
  "metadata": {
    "colab": {
      "name": "2deDiciembre",
      "provenance": [],
      "authorship_tag": "ABX9TyOTc5EegpyxFd/fQVE8w17i",
      "include_colab_link": true
    },
    "kernelspec": {
      "name": "python3",
      "display_name": "Python 3"
    }
  },
  "cells": [
    {
      "cell_type": "markdown",
      "metadata": {
        "id": "view-in-github",
        "colab_type": "text"
      },
      "source": [
        "<a href=\"https://colab.research.google.com/github/NetzaiHernandez/daa_2021_1/blob/master/7deDiciembre.ipynb\" target=\"_parent\"><img src=\"https://colab.research.google.com/assets/colab-badge.svg\" alt=\"Open In Colab\"/></a>"
      ]
    },
    {
      "cell_type": "code",
      "metadata": {
        "id": "P8e3c8lb_ld3"
      },
      "source": [
        "def fnRecInfinita():\n",
        "  print(\"Hola bb\")\n",
        "  fnRecInfinita()"
      ],
      "execution_count": null,
      "outputs": []
    },
    {
      "cell_type": "code",
      "metadata": {
        "id": "nDrAHeMy_-UM"
      },
      "source": [
        "fnRecInfinita"
      ],
      "execution_count": null,
      "outputs": []
    },
    {
      "cell_type": "code",
      "metadata": {
        "colab": {
          "base_uri": "https://localhost:8080/"
        },
        "id": "_0_DFa95AbNF",
        "outputId": "702d8336-d0b5-4bd7-d944-81c4943df117"
      },
      "source": [
        "def fnRec(x):\n",
        "  if x == 0:\n",
        "    print(\"stop\")\n",
        "  else:\n",
        "    fnRec(x-1)\n",
        "    print(x)\n",
        "\n",
        "def main():\n",
        "  print(\"Inicio del programa\")\n",
        "  fnRec(5)\n",
        "  print(\"Fin del programa bebe\")\n",
        "\n",
        "main()"
      ],
      "execution_count": null,
      "outputs": [
        {
          "output_type": "stream",
          "text": [
            "Inicio del programa\n",
            "stop\n",
            "1\n",
            "2\n",
            "3\n",
            "4\n",
            "5\n",
            "Fin del programa bebe\n"
          ],
          "name": "stdout"
        }
      ]
    },
    {
      "cell_type": "code",
      "metadata": {
        "colab": {
          "base_uri": "https://localhost:8080/"
        },
        "id": "TXvqbACxB9hX",
        "outputId": "e6b4cc50-c743-4924-aecc-d2a4664b78bc"
      },
      "source": [
        "def printRev(x):\n",
        "  if x > 0:\n",
        "   \n",
        "    printRev(x - 1)\n",
        "    print(x)\n",
        "\n",
        "printRev(3)"
      ],
      "execution_count": null,
      "outputs": [
        {
          "output_type": "stream",
          "text": [
            "1\n",
            "2\n",
            "3\n"
          ],
          "name": "stdout"
        }
      ]
    },
    {
      "cell_type": "code",
      "metadata": {
        "colab": {
          "base_uri": "https://localhost:8080/"
        },
        "id": "HOlVFRrIIwcb",
        "outputId": "0e956496-629d-4e07-e15c-81a85e2d677d"
      },
      "source": [
        "def fibonacci (n):\n",
        "  if n==1 or n==0:\n",
        "    return n\n",
        "  else:\n",
        "    return(fibonacci(n-1)+ fibonacci(n-2))\n",
        "\n",
        "print(fibonacci(6))\n",
        "  "
      ],
      "execution_count": null,
      "outputs": [
        {
          "output_type": "stream",
          "text": [
            "21\n"
          ],
          "name": "stdout"
        }
      ]
    },
    {
      "cell_type": "markdown",
      "metadata": {
        "id": "s2OXWv8Xufu3"
      },
      "source": [
        "##07 de Diciembre"
      ]
    },
    {
      "cell_type": "code",
      "metadata": {
        "id": "5vCGCMK6ulNJ",
        "colab": {
          "base_uri": "https://localhost:8080/"
        },
        "outputId": "0f9f264d-e9b2-4db2-c39b-62402fb56b2d"
      },
      "source": [
        "def fibonacci (n):\n",
        "  print(\"Llamada:\",n)\n",
        "  if n==1 or n==0:\n",
        "    return n\n",
        "  else:\n",
        "    return(fibonacci(n-1)+ fibonacci(n-2))\n",
        "\n",
        "print(fibonacci(6))"
      ],
      "execution_count": null,
      "outputs": [
        {
          "output_type": "stream",
          "text": [
            "Llamada: 6\n",
            "Llamada: 5\n",
            "Llamada: 4\n",
            "Llamada: 3\n",
            "Llamada: 2\n",
            "Llamada: 1\n",
            "Llamada: 0\n",
            "Llamada: 1\n",
            "Llamada: 2\n",
            "Llamada: 1\n",
            "Llamada: 0\n",
            "Llamada: 3\n",
            "Llamada: 2\n",
            "Llamada: 1\n",
            "Llamada: 0\n",
            "Llamada: 1\n",
            "Llamada: 4\n",
            "Llamada: 3\n",
            "Llamada: 2\n",
            "Llamada: 1\n",
            "Llamada: 0\n",
            "Llamada: 1\n",
            "Llamada: 2\n",
            "Llamada: 1\n",
            "Llamada: 0\n",
            "8\n"
          ],
          "name": "stdout"
        }
      ]
    }
  ]
}