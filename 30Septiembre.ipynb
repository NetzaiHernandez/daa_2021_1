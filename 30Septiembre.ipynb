{
  "nbformat": 4,
  "nbformat_minor": 0,
  "metadata": {
    "colab": {
      "name": "30Septiembre.ipynb",
      "provenance": [],
      "toc_visible": true,
      "authorship_tag": "ABX9TyP+1Cz8VNHzZTdj2nLrEZoE",
      "include_colab_link": true
    },
    "kernelspec": {
      "name": "python3",
      "display_name": "Python 3"
    }
  },
  "cells": [
    {
      "cell_type": "markdown",
      "metadata": {
        "id": "view-in-github",
        "colab_type": "text"
      },
      "source": [
        "<a href=\"https://colab.research.google.com/github/NetzaiHernandez/daa_2021_1/blob/master/30Septiembre.ipynb\" target=\"_parent\"><img src=\"https://colab.research.google.com/assets/colab-badge.svg\" alt=\"Open In Colab\"/></a>"
      ]
    },
    {
      "cell_type": "markdown",
      "metadata": {
        "id": "odyYjDcAQITe"
      },
      "source": [
        "# Palindromos\n",
        "Es una palabra que se lee igual forma de un sentido y de sentio inverso\n",
        "1 sugus\n",
        "2 oso\n",
        "3 reconocer\n",
        "etc\n",
        "\n",
        "### Planteamento del problema:\n",
        "Se desea encontrar todos los paleindromos que existen en la franja horaria de un dia completo, tomando como horario inicial las 00:00 y como horario final las 23:59 horas.\n",
        "el Algoritmo debe mostrar en pantalla todos los palindronomos existentes en ese rango, al final debe mostrar el conteo del total de palindronomos existentes. "
      ]
    },
    {
      "cell_type": "code",
      "metadata": {
        "id": "acO6kEfsP-xF",
        "outputId": "f204d0e3-4114-4133-b3dd-fdc596227bc1",
        "colab": {
          "base_uri": "https://localhost:8080/",
          "height": 312
        }
      },
      "source": [
        "npalin = int(0)\n",
        "for Horas in range(0,24):\n",
        "  for Minutos in range(0,60):\n",
        "    izq = str(Horas)\n",
        "    der = str(Minutos)\n",
        "    if (Horas<10):\n",
        "      izq = (\"0\"+izq)\n",
        "    if (Minutos<10):\n",
        "      der = (\"0\"+ der)\n",
        "    if (izq[::-1] == der):\n",
        "      print(izq + \":\" + der + \" es un paindromo\")\n",
        "      npalin +=1\n",
        "\n",
        "print(\"numero de palin \"+ str(npalin))\n",
        "\n"
      ],
      "execution_count": 15,
      "outputs": [
        {
          "output_type": "stream",
          "text": [
            "00:00 es un paindromo\n",
            "01:10 es un paindromo\n",
            "02:20 es un paindromo\n",
            "03:30 es un paindromo\n",
            "04:40 es un paindromo\n",
            "05:50 es un paindromo\n",
            "10:01 es un paindromo\n",
            "11:11 es un paindromo\n",
            "12:21 es un paindromo\n",
            "13:31 es un paindromo\n",
            "14:41 es un paindromo\n",
            "15:51 es un paindromo\n",
            "20:02 es un paindromo\n",
            "21:12 es un paindromo\n",
            "22:22 es un paindromo\n",
            "23:32 es un paindromo\n",
            "numero de palin 16\n"
          ],
          "name": "stdout"
        }
      ]
    }
  ]
}