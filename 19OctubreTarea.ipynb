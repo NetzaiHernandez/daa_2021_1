{
  "nbformat": 4,
  "nbformat_minor": 0,
  "metadata": {
    "colab": {
      "name": "19OctubreTarea.ipynb",
      "provenance": [],
      "authorship_tag": "ABX9TyPi18+f26wowbGEf9RWI9i+",
      "include_colab_link": true
    },
    "kernelspec": {
      "name": "python3",
      "display_name": "Python 3"
    }
  },
  "cells": [
    {
      "cell_type": "markdown",
      "metadata": {
        "id": "view-in-github",
        "colab_type": "text"
      },
      "source": [
        "<a href=\"https://colab.research.google.com/github/NetzaiHernandez/daa_2021_1/blob/master/19OctubreTarea.ipynb\" target=\"_parent\"><img src=\"https://colab.research.google.com/assets/colab-badge.svg\" alt=\"Open In Colab\"/></a>"
      ]
    },
    {
      "cell_type": "code",
      "metadata": {
        "id": "-ripEC1Ecr59",
        "outputId": "e1ff8a5d-d3ac-4614-da46-3cc14b8e9f2d",
        "colab": {
          "base_uri": "https://localhost:8080/",
          "height": 849
        }
      },
      "source": [
        "def ejemplo4(n):\n",
        "    count = 0\n",
        "    i = n \n",
        "    print(\"nivel 1\")\n",
        "    while i >= 1:\n",
        "      print(\"nivel 2\")\n",
        "      count += 1\n",
        "      i = i // 2\n",
        "    basura= 3 + 2\n",
        "    return count\n",
        "\n",
        "\n",
        "print(\"--Inicio--\")\n",
        "netza = ejemplo4(5)\n",
        "print(netza)\n",
        "print(\"--Inicio--\")\n",
        "netza = ejemplo4(10)\n",
        "print(netza)\n",
        "print(\"--Inicio--\")\n",
        "netza = ejemplo4(20)\n",
        "print(netza)\n",
        "print(\"--Inicio--\")\n",
        "netza = ejemplo4(30)\n",
        "print(netza)\n",
        "print(\"--Inicio--\")\n",
        "netza = ejemplo4(40)\n",
        "print(netza)\n",
        "print(\"--Inicio--\")\n",
        "netza = ejemplo4(100)\n",
        "print(netza)"
      ],
      "execution_count": 7,
      "outputs": [
        {
          "output_type": "stream",
          "text": [
            "--Inicio--\n",
            "nivel 1\n",
            "nivel 2\n",
            "nivel 2\n",
            "nivel 2\n",
            "3\n",
            "--Inicio--\n",
            "nivel 1\n",
            "nivel 2\n",
            "nivel 2\n",
            "nivel 2\n",
            "nivel 2\n",
            "4\n",
            "--Inicio--\n",
            "nivel 1\n",
            "nivel 2\n",
            "nivel 2\n",
            "nivel 2\n",
            "nivel 2\n",
            "nivel 2\n",
            "5\n",
            "--Inicio--\n",
            "nivel 1\n",
            "nivel 2\n",
            "nivel 2\n",
            "nivel 2\n",
            "nivel 2\n",
            "nivel 2\n",
            "5\n",
            "--Inicio--\n",
            "nivel 1\n",
            "nivel 2\n",
            "nivel 2\n",
            "nivel 2\n",
            "nivel 2\n",
            "nivel 2\n",
            "nivel 2\n",
            "6\n",
            "--Inicio--\n",
            "nivel 1\n",
            "nivel 2\n",
            "nivel 2\n",
            "nivel 2\n",
            "nivel 2\n",
            "nivel 2\n",
            "nivel 2\n",
            "nivel 2\n",
            "7\n"
          ],
          "name": "stdout"
        }
      ]
    },
    {
      "cell_type": "markdown",
      "metadata": {
        "id": "zoPDmLvJpThD"
      },
      "source": [
        "![image.png](data:image/png;base64,iVBORw0KGgoAAAANSUhEUgAAAY8AAADlCAYAAACrgntvAAAgAElEQVR4Ae19zY4bObJuvses7jtoM9qc3X2Es9IAd6X14NwHONDmLs5K23bbsMeWYY+rq7q6qktd1TYMG7ZsGDZsuGbgjfb1GnERJD8myWSmMpUpKZOKAgrKHyYZ/BgRX/InGdnd3R3t8/9f//oX/f7776X/riyvXr3aq2xu2Xs9Xkwoyya0WM1olGU0Wey3TfZaV0ffjqZ9nTofCuudl1uiu6vZiLIj0umd49wDXYLdZvus7CbiYFJx5fnzzz+9c/deSseLSUbZZEF3dyuajXCcPoEcS/umpKuldSkhjzv1YnQ8L0Sl+PTA6XclG+x2b+RRhzhC8ri+vj4C8ljQxHkz029qI5qt0ieP42jf9NtROaUS8jgmfe7KOfc9H9jtXsijLnGE5LFcLpMnD21cE1rYNxNNJqPZKvm6H0P79t0RdCZfhDxWCz0Mewy63BmO1g/096UDdrtz8mhCHCF5hOfpNVB8mEoNY41mtBqAIrVpk/Tbt78OoE27RZ815MHzG+7/aLJIXo+jeCRsu7DbnZJHU+KAUGiMi4uLtN++I29rqu5HMk6cfPsm7EBgo/bX6PJotqDFgv9nNJmM1AKQLDuOYViLReLtDrvdGXlsQxwheZyfnydNHqqHwausCsqmh670JHq6b6+pt++xOBNVz7IXoTujy0fQkz6W9obd7oQ8tiWOkDzOzs4SJg9jVEE33+3yq+W7BWJJh0zSbt902qmWUywljzsqf0k6MowSsWXYbefk0YY4QvI4OTlJlzzU0NSIJrabj+6++Z3xtx8ZpTzZmHT7JuIoahEH11XII11fFegy7LZT8mhLHCF5/POf/0y0QcxEeWVXPv3ufrrte4Rv1GXksUpfj2sTbOCEh/oc7LYz8uiCOELyePbsWZrkYQxtU69Cd/fTnWxMtn0TcRKNnJvVafSgZcK8EX4D0hnYbSfk0RVxhOTx9OnTJMmj9odTxiBTnThPtX1TdRqV9YKuBnN4o8mMFkfwwWslNgMihjr1gN22Jo8uiSMkjydPniRJHnUa6BjSSPse4fBWYo70GOw0rCPsthV5dE0cIXn84x//EPJI2NikfYU8Qsck5/3XCdhtK/LYdUM/fPhQyCNh8pD27b+j2LWNS/7D0wHYba/J48GDB0IeCZOHtO/wHIc4e2kz2G2vyePnn38W8kiYPKR9xREJGQ1PB2C32Y8fP+jf//433d7e0vfv3+nbt2/09etX+vLlC33+/Jk+ffpEHz9+pA8fPtD79+/p3bt39PbtW3rz5g29fv2aODDIy5cv6ebmhnirXt5x8erqii4vL4n3QOFP2fmLxNPTU+KPS168eEHPnz8nXu7Fs/Y8+fL48WN69OgRcXeIWe3+/ft07949+umnn+RfMBAdEB0QHeihDvS658HkIX/pIsAvLfInCAgCw0IAdivkMax2S0paKGFSlZLKCAKJIwC7FfJIvKH7XD0oYZ9lFNkEAUHARwB2K+Th4yJne0QASrjHIqUoQUAQaIkA7FbIoyWQ8vj2CEAJt89BnhQEBIF9IwC7FfLYN/JSnkUASmgvyIEgIAj0HgHYrZBH75sqXQGhhOnWUGomCKSHAOxWyCO9th1MjaCEgxF434Iupyog2HS574IHUJ7BZjxfD0DYdiIupxll2ZT6ogaw227JgwO/jDKaLLr5alK+82indH1/Gkp4MDnXcxrzFuK1vPOa1sspjcdsyPn/eDyl+bKGA1svaT4d6/Ls82Mqf35Ncy5rPKcauR8MwoMVnAB5rNdLmo7Hjj6NaTpfFtvb6GlfiBJ22xF5rGgxm9DIGIWQx8FMalAFQwkPJnRt8mAjB2GMaTyd0pT/XcOfRozeVGw5dRzE2DwbPF/gr545jIO1UVnBAyeP9Rw6AX3Ceexlpl8vErDb1uShAxuxYY1oMhopFhXyKNN4ue4iACV0r+31uBZ5GMPNMhrHCIJ7FIZYYm+GeshB9yDiHRTu0cwpvKedy5iOYFRmuyZPgDzGYS8D+pgV271P+gC7bU0eHCp1NFnQiqOFLSZCHtuZwlE+BSU8WOVhrIXXfkci46Qqh4+QTzguXXbdyT5+2K83zbiMB746cPKIo5e/qBRU0uhS7AUlntfursJuW5OHtyumkMfuWizBnKGEB6sanHvBUnOJ0HOoSKISx9LFruU5VxxVyWWcJsuj5mCc+ZNprJvipPdLhKMKJmKd9IX80T1az71hvGi5qrA18ZCdmlcycvIcD7Kx8jhl5kN8Y5pXzRCbZ9iZ+nNRPAwUG0IM0/FoCc8xxGaU1rScTwO555EJ65r1sxXddIA2KfY8iJY0ZQx7MAcGuxXy2NSecn9nCEAJd1bApoyrnLR6tsqY/cwxhp2/GeLZwDn7j8XPHMdYSGDuZWa+hZ3x1HHQefnmSccx+3mVyBfmr+Z38vH4MeZvzNwNiKFQLiF/duZztdt27pAD54gyFcGYOYBxPfLA4gWNg+PwA7a37aMWOCxpucwJMJQdpO/JzfJ4PNOgfj7wFWeGIMIerHoC5W2hTxUlbnMLdivksQ168kwnCEAJO8lsm0w2kkeVMfsFWudkPUzJsyjT9hj0G7B9jIiQV+D/dIHW0QbODPmGb6bbkkcw7g6Z2Fl7zrakXKQv1AHp3RtldfIh9s9KnwHuIT5LWnvOn7MzaT3MjJP2rvlF81mj+hUfj15BnmWr/zSpBfWK5rTbi7BbIY/d4iy5VyAAJaxIsttbMUfmlQhHtPltD4afO9ayZ3nJbr7iCkt/XV+KvNxrVizjNPNycKfkzXRL8ijkX4pVrFw4YB6iWtPa+zcr11znXFon1C3yW/EM8CvUoZBNhexMnoXxNWTQsH54rOoX+EZ7HfpBIY8GkfHkO48qbRv+vf6TB5zL5rc9OKzc4ZeRh99uGCLJn6t4q+VHS50mZA2IrivywFu6K6iqSqxc1B3LmyO/OySPKox4ZZtH3qoHGGDmzumMY99eNKyf3+SRM+RXrWdCHkIeEeU5zkv9Jw/21drxFXym12RwoL7x13k2lqZIRE5hQyKPMS9BDnse5typUrmzdxMFx6U4lBAsf+DpDRW6hBaQhymKicb9vicfWjTOvm79AtH9U+hORtU6Bl30dczPaz9nsFsZttoP3lJKBAEoYeTWfi5hqKDCauHIy8ahlaDIx32b5hvGwVWtkNkXeRSHcOC0AsdZ6pSNwyxgFcsndq2iSUvL3O4ZtFkuKuQZ09QbisL1AIOgWF7NpSbmbYb1nguyiZwin83EwQ9rXRHyIG+Jb0lvRIatIvqW0KUhkIedVA0nitEOvMWEeaO1vgX3rMGXfyQYIw+QTtHh54RUvAdHFDjCguPTwsHBFvZMKnXkTcgjH3orysmzzdz78EBSzjma1knmHaJewcR+3l6uk817Cm6xKq36wDPAzCuIT4p1B35RmcP6FfLjC2gvJg5fqmhym36TrPGnu7wKu5WeR5eoSl6NEIASNnqoy8S2xzDW2404E9lT91sBpFMkge0keHuSfOgj6kSUrLmTUG+vPIZulr/mwyiuo1NLefQQS5yNShwtygmdC64zgemJej1Jz/tqsfxB+o7Iwzpc9WX+nOZLvTyW9/cqrNgqLRONDYJ2ZFXPoA6Z2iOMcQWmYXuApLH8du59x+Hkq9raWV7sDF35zQGZeOeBDfVDNZxfyIM20TqRL6TgPa78vzIC9FPt4wx2K+SxD7SljCgCUMLozX1c9EghJwLl5EOnujYfhDmEwR+ZKWdU48VRj5/7H8zxtxrx543DD4fBGJNSRwuScBwhMFRbqDjfapgP9bQDC9KX5l98+9bZV5RLxY/o2FkWVjGVlokKwFE7shry4HmItUcE5R/+gbh0++ohrCIGNWVWojVJi7rwLzALdc45D9ve6GpIim6u+zqG3XZLHiXDT3WGqGJpZNhqX+pwmHKghIcpvd+laqcW9Ej6LfLupAPJ+6/+uyuvhzljmKwPEMBuhTx6qCjHIhKU8Fjq26iePXrTbCT3DhJrx3nMRFrRE90B3puyhN0KeWxCSu7vDAEo4c4KGHTG/XIYh4OybLjscBLtveSevUjAboU89q4JUiAQgBLiXH4DBMxcQB+GKgLJ9naqex3OXMfeSu5PQcV5mcPKBrsV8jhsOxx16VDCowZBKi8IDAwB2K2Qx8AaLiVxoYQp1UnqIgikjgDsNvvx4wfxye3tLX3//p2+fftGX79+pS9fvtDnz5/p06dP9PHjR/rw4QO9f/+e3r17R2/fvqU3b97Q69ev6dWrV/Ty5Uu6ubmh6+trtfXy1dUVXV5e0sXFBZ2fn9PZ2Rmdnp7SyckJvXjxgp4/f07Pnj2jp0+f0pMnT+jx48f06NEjevjwIT148IDu379P9+7dI15txbLJv2AgOiA6IDrQLx2Qnkfqrwk9rh87A/kTBASBYSEAuxXyGFa7JSUtlDCpSkllBIHEEYDdCnkk3tB9rh6UsM8yimyCgCDgIwC7FfLwcZGzPSIAJdxjkVKUICAItEQAdivk0RJIeXx7BKCE2+cgTwoCgsC+EYDdCnnsG3kpzyIAJbQX5EAQEAR6jwDsVsij902VroBQwnRrKDUTBNJDAHYr5JFe2w6mRlDCwQgsggoCgoD67o5haE0eq8WMJiNnH/psRJPZglYdbM8uW7IPSFOxbXY0TnR8byIhjwG175airjnS4jiPJcIxUDjQUY0QKLbEJnk0SZsXgFjlcT1V6TgmiglkpeOBcBCoeD0ayWDyRRArFSgrFvNEC0HLqR8TZmxis9i64KCuvC3sth15LCYqKthoNKHZYkGLxYJmk5G6lk0WtULNxuJ44JqQBzRhAL/Y+dNEq/Mjo8WNTMhjAO3aQkTEoNBBszhKnkMidXd7NJtD1sljm/LyZ/gFuIw8EIwqjzBoiSQI2pTnx2k31bmY79IJbOVD5ASQQjRKS8rhdvXFfMvkpRZ225I8ZjRb3RVIYjHhhhhF74EY6vwKebSw3H0/apTQV/hqIYQ8qvEZ+l12pOOwl2HfdEOHF69tdR6+s69OG5aXO2OWcR4LyWtE0rvacqxxX0Zcd6P7NZGB03JPI8wXDj1zbiCte42lWYNcnbSQy7mkBMd1V16UFab1a+qfwW7bkUfZ0JTpkUwWRWKpQxpII+ThN1qvz4Q8et08/REud9pNHJYvP/IICcFPpc+QNnDSSl/xPNL4ZKSfN2/xQQ9D3QMRbqwI8vdl0M4cMjiyF/LF85G0NqQtZG8obwu7FfJw2kwOWyDQQglblCqPDg6BKkdYtzJN8qiTFmnggB054Mhj5EEVjtrJIo9Z7jt/9Ca8ngD3JkyPJL9eXY5HQk3lbWG3OyEPPWw1oUVZz6Tmdel5eBrY7xOjhDwEsFya/3X1tCi6v/2umEjXLQLGEZbOL9QoLTJUU/5UnfK2JY+K5zyBymTA8zz5Pqflek1LQxw8PGWtB4RQ0sMB2ajbSBslO5TnkGQLu+2ePDCJPlsV5kIwHFX3V8jD08B+n0BpC6uteHWNNQOvDkIeHhxHcQJHF47dV1Z+jReSeb7iiVcZVT6kb9YrL+JUbd645/caTO6VcyXIolqGtVpBhRVcarVVaC+wrTrkYYexasqLvLew207JYzXTK61GHay0YoIR8oD6DfN3vZwTliDG9F7IY5jturXU1lHVc/woxzpfx8HpN3WkKPmtXR4IIi5XXr5eZsw967mzKqp8lZYagzI2EM+bJ6ynarJ+TGNn9ZT3woV6xIzIGebC7Vbyqkn4enbbEXmsaKa+9RjRZNG+x4GeiZBHiVEM6TKGGCLdaCGPITVkW1kxdBN7I26S91qtMNIvJVV5NSmvmjxYOl7VNFZO3nzTxstl58bxR3Rb12iDDI5tLNE55+8zUE7OBpqAcB7ABbJwb28nr5OxIxtEw13YbXvyWM1oxG8EoxktIst2QQTb/Ap5oLkG/Iu3poiBQQkHXDsRvRYCcM7+aqNaj5YlgnNzPaZN27Q8pC/pHdh8wwNDDlvJAGKJlQl5QI4mbcSGWCJvwjwU0TuvktdLyLP2mrAiZcJuW5LHgiZMHJNuvigPCUbII2jQIZ7WUMIhVktkrosAHGGHxMFFgzwKzm2b8vBMzJFX1NPIUOQO5FdR5wq70NXjHg7IA/nF5KsioUD2UnmDdHxaIV8n5KFWVY1mnWxFEhIHnwt5RBp1UJeg9Bnlyw7zCkAJ8ytylBYCeftP7bhMSQ3hrNxVRmryd0zzwrM8yWyGjzzP3aA8Tww8F3POXsL8BPJWklc44JM/TljmG111VpQHQ1OhHeH6xgUIpfK6MuEY5VfbbYueh5nn4OEqszVJ8bfd/IeQBxqz77+8f1GmJvzybUmcrSgKBqbrI+TR93ZtJ5918NEta6ZqjytbAnoSnjPNnZjaE0tt9zG1izDCiepG5RETEG8fov8xh6K3FNGywfVjWAhp9QS32zOwtchJrUadreNX8ydmRRlPxJs5D58o0MPIKEPemBvxMMuHsTbL285u25OHswLCXW6mjlv2SoQ8cqXs+xGvrPI3wGMlH1PVG6eQR99btY18ruM3vYTQV7gvFXgz9noeXD5/+5A7VOVXjLOFc9dSNizPvvmXyOY45MLkc8b7VjnfYViYmsrAE/FFu+HNDou9LTVrny9VVljqvbZ8HCKT+6Xyxsuva7ctyKPd1iOxYarwmpCH1cokD4Q8kmxWqVTiCMBuhTwSb+g+Vw9K2GcZRTZBQBDwEYDdCnn4uMjZHhGAEu6xSClKEBAEWiIAuxXyaAmkPL49AlDC7XOQJwUBQWDfCMBuhTz2jbyUZxGAEtoLciAICAK9RwB2K+TR+6ZKV0AoYbo1lJoJAukhALvNfvz4oQKa397e0vfv3+nbt2/09etX+vLlC33+/Jk+ffpEHz9+pA8fPtD79+/p3bt39PbtW3rz5g29fv2aXr16RS9fvqSbmxu6vr5W23FfXV3R5eUlXVxc0Pn5OZ2dndHp6SmdnJzQixcv6Pnz5/Ts2TN6+vQpPXnyhB4/fkyPHj2ihw8f0oMHD+j+/ft079499ZEgCyr/goHogOiA6EC/dEB6Hum9GAymRuwM5E8QEASGhQDsVshjWO2WlLRQwqQqJZURBBJHAHYr5JF4Q/e5elDCPssosgkCgoCPAOxWyMPHRc72iACUcI9FSlGCgCDQEgHYrZBHSyDl8e0RgBJun4M8KQgIAvtGAHYr5LFv5KU8iwCU0F6QA0FAEOg9ArBbIY/eN1W6AkIJ062h1EwQSA8B2K2QR3ptO5gaQQkHI7AIKggIAuq7O4ahHXmsFjSbjHQMc+zVPxrRZNEuCBS2Zpct2XukqWuOO8CxD6qirXGAnbETrIcDRE2pEAjOVEvIo0ftuyNR1msOOOQEBsvGKghUGIOiqvgmeTRJa8uso9vrZRBLIyuJ6UHUSAaTrw5GpWOLlMbzUAGsatpXXXkRRwX+2/uN2zrsth15LCY0Gk1oZiMJzmgy0gCMZu0JRMjDqvdBD2zEM6VYcYXioD1zRDbjYD0coc06DcRi9qsBJfSvylkyCNjogBy0iCP2OSTihY+tqHGDPHI9rV9e/kzVixGi+OngS8ulQyRuQCsV+ht1rCNDMV8V+Mo4cB+iJvZVzHcO7AN5EaucCctGHrQRFmMBr6ijnsddLCBUHp52Fb0feyZ+Tcijwqj2citX2PF8acghTh7WCH2NJ47CpqK/BddZfCGPvTTiwQphnWC98XoZ9k03rkehsE3yqE4bvsDU122Etw1VGNfdcLFNZOC0bBthvnDoblxypHWvMVYx+4JcYb647sqLssK0YTu457Dbdj2PEnJYTJjFJ7QouY9hqU2/Qh5ukx3gWBk6jA7GFjN63ENaV1bcKz4HJXRTy3HqCEAfYrpSt+5N8kDawEnX1m3zFh++sbOoIMKNnjcug3bmERwK+eL5SFrb44d9NZTXlLWxCk7TwG53QB6m5zFZ0CZy2HRfyMNpsYMfQoGhpK5AFQpLRGVGAiV0c5Lj1BGAHsUcYd26N8mjTlqkieg2HHmMPBAHPXrPrQvy9+uM3oTXE3CGvvLrDeyrqby9IY/VSk2gZ9mIZqv4UNQmwnDvC3m4CnjoYxhAhYGVvL7ASMLbQh6HbtMDlF8xjFlbmkZ5GMe7YaGHnq+r0O0oQVTYhFeZMhnwPE++z2m5XtPSDGXx8JQd7gMhhAZkyvDsC2nrymvS8/Aiz+Wo/7Ut2asFTmC37Xsei4ke0zaTPKPJjNrOdYBAhDzQXH34haJXGFgd5XaqAiV0Lslhagis4ZTm+WolXoHXpJ4t8oBjDecK/OIrdNsOC/m9Bv181XN5CdUy6BWKal7Q+NC8x2HyACHUsi/IVFNe5G3KzuXgVXFxEoHdtieP1YoWWG0149VXPN/By3Wl55GrTwpHUMqI4UMBayl3jgWUML8iR6khYB2n45z0W3b9mm6dB/SystfBclTotjOMlJllxmq11XzqLEmP2ASqt0kGu0x4TGNndaLnuJFHTfvK8dLLohvJy/Vdzm3dYkXCbtuTR2RSXE+Ytx+6kp4HNLAPvxUG1lC5URsoIc7lN3UE1mp1kP6mIfZmXKf+dfPAUFGdcip024jEq5rGWIrORMjL0efm26foEBE/uEEGDL+NecjKFpQveYfn3sK+tpPXwd+RDaLhLux2J+Rxt5qpDwfbfush5IHm6sNvlYEZIykxIpkw70P79UgGOCY4x21Eq8wDuhqssCotB+krehDRZ43eR+uBPMtkALHEysSzIL7t7KsocpW8QWoQVsSm90IebYeuhDyCBj3oKRS6Stlj98qNBEp40GpJ4ftHAI4/4phqC1OaB/S0zGnHSsAzMf2NpTfXjAxF7kB+FTJUOGfO3X/hQn4x+crtqyB5qbyFlPky5EgbwW530vOQYatIYwz+UpUCs67pD57CyT5cj01YQgkHD41UIIIA68uY5nY8Bkl4gljvQuHpBJypu8pIzUU0yMPOXbDTDgdbUH7st1q3Y0/YbzwKzhV5bZKhyukjj5wsYEdN7MuTG/gW5PVSmROUn1FYHieA3bYgD/6eY0STySzfnmQm25PEmmK419jQ820LMFatt5qYBnsUwRh4PNg8Y8eIcyNwsYASutfkOBUEcgekJpqNHuV7OAU6gZ6EN7ndLA9LStA/R3fV1htzd41Xfd1GL8Bu32H1GsNKeZs1kQGEoOdPzKo0nog3+fuOu7591ZeX9x3j/efMdkIKL2yvwnY8z5cL51XsgjzuaGVXV5k3iSxTe10tOvjGg5fryrCV02IHOXQU1lktky/nCxxAYTM2vRdQ2TugkMdBGnWPhfJ3C7kzVHqjJpqdbxggDd6MvZ4H36ybh0s0uT/KdTV0hvV1uzD5nLFeR+rg9Hy8cl3bCRwyr2zK94DTcpdujFjTvurLq1dWheUrMqvoucFuW/Q82i/FxfccZb9CHrCsNH+hhGnWTmolCKSJAOxWyCPN9h1EraCEgxBWhBQEBAGFAOxWyEMU4mAIQAkPJoAULAgIAo0RgN0KeTSGTh7oCgEoYVf5ST6CgCCwewRgt0Ieu8daSihBAEpYclsuCwKCQA8RgN0KefSwcY5FJCjhsdRX6ikIpIAA7Db78eOHWrd7e3tL379/p2/fvtHXr1/py5cv9PnzZ/r06RN9/PiRPnz4QO/fv6d3797R27dv6c2bN/T69Wt69eoVvXz5km5ubuj6+lpt6Xt1dUWXl5d0cXFB5+fndHZ2Rqenp3RyckIvXryg58+f07Nnz+jp06f05MkTevz4MT169IgePnxIDx48oPv379O9e/fUUl0WVP4FA9EB0QHRgX7pgPQ8UngVGGgd2BnInyAgCAwLAditkMew2i0paaGESVVKKiMIJI4A7FbII/GG7nP1oIR9llFkEwQEAR8B2K2Qh4+LnO0RASjhHouUogQBQaAlArBbIY+WQMrj2yMAJdw+B3lSEBAE9o0A7FbIY9/IS3kWASihvSAHgoAg0HsEYLdCHr1vqnQFhBKmW0OpmSCQHgKwWyGP9Np2MDWCEg5GYBFUEBAEuonnEdtKfTUbEe9l3zZ+ucTz6IeWrtccMMYJEJONgyBQrpwcYGdMecAfDjQzpbLQAEIeLnZHcLycWt3wAx1V172JDjZJa0tdc0wNjqURxKexCTisyJLmU9cOspKYHkSNZDD5hjZTjMDIwjSwr7ryIo6KG3PEHsfxgN123PNY0MQULOThat4wj22kMxX8hqMDOsZTCNzsBONBZDJLOsWIa4wIlHCY6IjUzRBw9COLhzeN5mcjDHIApmodbKavurT8mSryQOAoHdxsuXSIJAzuZMIxc/TETfISFfNVwbOMD/VNzMFvo30V87XEF8iLcLr8kmcjJdoIjLGAV7nddkoeOna5joYl5BE1hUFdZMMazwMFsm8qPiFYI/Q1njiqmYqqFlxnIIQ8BqUOrYTV+jGm+VzrQ92eR7UO+m/G1Wl9feW3+LkN97o0x35+qDBCy4YqjOtuXZrIoDHhWOcoyfzCxpwbSOvFfVcdoqJ9QS7ncZUxrrvygjzCtIFE3instjvyWEwoy0Y0W8xoJMNWHthpneRGlyscroUGyjXHvaJhQgnTwkdqU0TAvAmzwpiXCc+BFR/YcAU6FdO38FGkDZy0ctB4HmmKOmp7B+EbOxcTcfJh6foc+fsyaGcOGZwnC/ni+Ujagn0ZrOvKa8rKbdmRo+QQdtsReejhKtXbWAl5lGCeyOWYIlcoLLG/4N5oUfGhhIkAI9UoQUC3v3HMByOPov7l4kKnI+QBRx5zxhh2it7Lc89foHwZ0JsIibR4vYF9NZX3sOSxotkoo2w0o9XdHd0Jebhak+CxUWR3chEKW/L6AmMIbwt5JKgeYZWMblgH2QV5VAyFhsXbnoOrr4VE25JHxXNeGRGbUffxPE++z2m5XtMScyZTZ7i4iX0hbZTQUJ5DkrZ9lmpHdJ7PYTmq/mC3rXseep5jQgsmDkEbYXYAAB1uSURBVCGPKsyTuAci8MZeobAhO5ga45nwNpQwCWCkEhEEjLNyHdk25LGGY5vnK554FV+kxPASdM/T1zBRYejHTQCH6/cadArcq5alWga9gkrNC5qJcku0EKORfUGmmvIib7vCSs9Z80jBdB4nEdhtK/LQy3JHNFsZ4hDyQHOn+WsVLTAWXA/ZwaAA4wlvQwnTBEtqhfkNr923IA/oj+dg1Zv6Boyhl5W9Ds4DDjfQa5N9Xr5epq5WW83zZcfVS3znZnlyPG+eN9HLhMc0dlYneo4b9fCAzOsO+XAb55oANPHyQoV8OXCJLKjvEjL7czQoEXa7PXmoCfKMJguHOIQ8gG+Cv+h6R95oGio3wIES4lx+U0LA6As8Gqq2BXngUf27Viv4tCOM6KJNXKGvNg0OqsmDU/GqwbFZnaVIjJfLzo3jd3tWyFL9bpABw29jHrIyD/L3GSgH2G1hX9vJ6wjvyAbRcBd2uyV5mHmOQlcHXZ78t0AuGN6q8fvTTz9BXvk9KAIwrvibiB1XLjEimTA/aOMdpHC8/Ra+H8DbtfmuYF5n7ClWAzg3OFgvzSZ99RJv7HmEqfPzEoJUCTbJAGKJ9QLwLMjRpG1oX7mcOKqSF2nMLwgrUmZL8rij1WJBi9j/bKKX6k5m6v7KHdKqQRjuV+tCHkGDHuQUilxGHCwU0sQModxIoIQHqZYUulMEQB7uUFPsuDC+X1cqkEfBuUEXq/Q1LATPxPQ3TOucGxmK/IX8KmSocM5cgv/Chfxi8pXblyOpPiyVt5AyX4ZcwDf/PmvLnkcwVOWSgqy2irTEUC9BadkIws6rXyc4i9AZ4HpswlLIw8fwKM6MAwv1xP1mItc01r8xFbfq4ElmM7rhee76+upjjediztlPac9KnT/y2mQzVU4feeTywI5C3HA9Zl9WVj4olddLZU5QfnwnANitkEcMO7mmELAGGt26YKr2uMqhgjFklCE9xm5LJiyhhHkecpQ8AmXkYa77k8+5E1OTv2bbjLKJ32b6ygSUb8mBORS9pYjWbZAYegF2+w6r1xhWylutiQzW8av5E7OijCe2Tf4+UdS3r/ry8r51vP/c2NmaxNmCKNLr4JrCboU88naXIw8B13DzOSxv6CFUrsJmbHovIBihl72jhOF1OU8YgTLywJux+32DgoG/fcgdaj5Z7XwHYdLZieayuVhPXx1nHE3vvPWHk+Vq36qwfBaiuc2slzzp7jhs3vdrPI30tjh7Z08tJXPcvgqT5aXycpbF8jMmk4qRht2RhzuE1fJY5jwSdiJCHmk3rtQuWQSEPJJt2uFUDEo4HIlFUkFAEIDddj9s1bK3Iautjkc5oYTHU2OpqSAwfARgt0Iew2/LwdYASjjYCojggsARIgC7FfI4wsbvS5WhhH2RR+QQBASBzQjAboU8NmMlKXaEAJRwR9lLtoKAILADBGC32Y8fP9S63dvbW/r+/Tt9+/aNvn79Sl++fKHPnz/Tp0+f6OPHj/Thwwd6//49vXv3jt6+fUtv3ryh169f06tXr+jly5d0c3ND19fXalvfq6srury8pIuLCzo/P6ezszM6PT2lk5MTevHiBT1//pyePXtGT58+pSdPntDjx4/p0aNH9PDhQ3rw4AHdv3+f7t27R7zaigWVf8FAdEB0QHSgXzogPY8dMLNkWQ8BdgbyJwgIAsNCAHYr5DGsdktKWihhUpWSyggCiSMAuxXySLyh+1w9KGGfZRTZBAFBwEcAdivk4eMiZ3tEAEq4xyKlKEFAEGiJAOxWyKMlkPL49ghACbfPQZ4UBASBfSMAuxXy2DfyUp5FAEpoL8iBICAI9B4B2K2QR++bKl0BoYTp1lBqJgikhwDsVsgjvbYdTI2ghIMRWAQVBASB7uJ5LCYlsR6yCS1abpIoW7IfXlPXaw4Y48YbGKsgUPEYHRxgZ0x5sB4dm6AsNICQx+Hbd68ScFwMEzvDD3S0QYpCHIuMxoW4H8ijmQ5yDI5QZ3U8C+Rnfo0MkJ/jitSPu9GBvIh3siH2iJW6EWb8VE0cnFAKLXseK5qNMspGE5oV4pmvaCXkYdtykAc2uhsHneGoaw6JeOE/tfLZYDyITGZJpxhxjZ8Q8hikVmwptB8oqT55IGiTDny0XDoBkbzgTtvoYDHvJQdH4heg+dKpZyQdB6gyjtw3hWLaOeymjbyGPJiwbERDGwkxDEzVRAauZjF9HAcNCey2G/KYLMjdSr2rY+l5OPp7gEMOk8lG5PUy7BtQHmmNRbMhNX1LIo5qpqK/Bdf5GSjhAaomRe4ZAa0fY5rPtT7UJQ+EdQ3VB9fdfJrpIMgs/mLjwoN8QxlsXHDnBuRyLqmscH1reY3dhfm6cuIYZYVpcd2VIY9+uBkH5A+7FfIAIvJbE4GY0cWuITvc88mG70IJkVJ+U0XAvNmyNysLQxutunmu8Mau3lb0m7/1kNCzmBPEPUcH8SY/916N4lJMeWg+ki9epKwMu5fXFhWVlC82kSHH0SeU0szVDdhtS/JY0CTLaDRbSc+jGu+E7sIQXWOqUFhW5xLjgxImBI5UJYKAbn/juJuQB5xzjDwKTrKZDtqe0GbusL3q0MGiR2Kv71Be9HI2kkcjGTBi4NpypAGDS7DbTshDDUtgImc0osmiGzKRYaug1fpwGhuGgsKWaDaMLLwNJexDtUSGHSFgdMM62M7IAy8xhpQa6iAIbc5zHHZuTvcwpuFQLaEsnvie03K9puXczP+5E/eQIUp2yGM7eUEePIzM8z7qfx1hviYy2Be7KdXDQesI7LYleaxo4U6UzyY04gl0JpIO5kGEPHZk0E2yXUNZ55RP/Dndf84LChuygylHyKMJ4CmlNQ7TdaZNyMM67dibcRtnjGe1r2JCmCuHzERi/FdBl/VqJPdF2RKibTLk27W8jo3hJd3+8upHl0QayGDxbYJDPtzckjzuosNVWL47WcTv151QF/KwWnmwAzh+z2jU25cjkpCHA4YcWgQMUXh+uBF5YFiFnZteIq5WWzkrnbJsmzd5ONgpeX5XCZ7fc9db8QuSJpYxjW1PJXTcu5LXIuodrJfz6Iqv3GY3YGbJowEOzlzlTsjjbjWjUQdzIUIenq704GStVk/pJYrO25WQRw/apm8imDkIjznUOIkamSi+tZfLzyv2xugR8Bs3LwWfG2eOXk0jHSwhCCMCViVZ0Q3hZWMesjKJ+DsKyGQT6nvdy1uODRYgsGwQjVPXksEhD48oTXEFHMz1joatynoWeiK97dCVkEeF0hzyFozJGk2zyUqIDiXEufymgwDefgvfJeCt3Xyv4H1O0aj6ITk100HtGJ0XIKds32mafNHDcdI1W+baTl6vWPcEpBmQh5skPw5lKF/Mws/4OOS5wG6l55FjIkd1EQB5WIWtepMrNz4oYd1iJd1wEAB5uMOdseMmPRCv9kYH7ftL5Vt0UQchX/48cocuG2LZ4JyrSAg5qt+W8np5uScb5HOTopfi1rk2Dk5GsNsdkMeK9JzHiGarsp5JvevS83BabO+HbERjmtt+OgTgicPipCKUMHQGuJ65GmuyghIiZ/k9AgSMEw31xF104Q6/RBEpcZjQtTBvXPd0sPACZEoqXC8STy4TiCZYQJIn0EddyBvmqc5RfkZhnQvJS2QAoYTDXqXXO5vzWPDqqgnNZgu96mo2o4lZbdXFtx9CHgUV2OOFXDHVZKXZCgFbMtiJSisRjIzHpM0WChgTjnb581UbNgs5SB+BMvKA0w50BW/2dksOq1OxIacmOhjRbwypBR8EWvJRcy1m9SFP2htZXMe9G3l5fzneS2vsbE3ibBVkRwC0+jSToT4OUE689LXrefDEOJbmmqVjikzkOw/gPPBfXs+eG4kadjAGFH07LGzGpvcjiqZ13mAGDpKI3wSBMvLAm7H73URs4jdjnQq2zHHLb6SDxc0A9Xccbob6mFc2+d+DxDdGLExUdyRvrHy9gWPRuhrLENkUsQwHRqMb8mi58eGmJbvS8ygqcUpXoIQp1UnqIgikjgDstl3PQ8gjdT3Zaf2ghDstRDIXBASBThGA3Qp5dAqrZNYEAShhk2ckrSAgCBwWAditkMdh2+GoS4cSHjUIUnlBYGAIwG6FPAbWcCmJCyVMqU5SF0EgdQRgt0Ieqbd0j+sHJeyxiCKaICAIBAjAbrMfP36opVe3t7f0/ft3+vbtG339+pW+fPlCnz9/pk+fPtHHjx/pw4cP9P79e3r37h29ffuW3rx5Q69fv6ZXr17Ry5cv6ebmhq6vr9VWwVdXV3R5eUkXFxd0fn5OZ2dndHp6SicnJ/TixQt6/vw5PXv2jJ4+fUpPnjyhx48f06NHj+jhw4f04MEDun//Pt27d494tRULKv+CgeiA6IDoQL90QHoeAavK6f4QYGcgf4KAIDAsBGC3Qh7DarekpIUSJlUpqYwgkDgCsFshj8Qbus/VgxL2WUaRTRAQBHwEYLdCHj4ucrZHBKCEeyxSihIEBIGWCMBuhTxaAimPb48AlHD7HORJQUAQ2DcCsFshj30jL+VZBKCE9oIcCAKCQO8RgN0KefS+qdIVEEqYbg2lZoJAegjAboU80mvbwdQISjgYgUVQQUAQ6H5L9pUKDGUizHFsj5FEEkxOz5ZTQjAoNwBOXs9IfITxlArBCM0DQh45ckkeIUaHifXjh6HdEH3PAWS95mBITvCjbEzTeTymR5O0tog1x+pg31UhUyFOSFYaV6SRDCZf2BVjxHHfixE8WdoG9lVX3i3aCHbbQc9jRTNED5zMdETBxYxmkxFNFvXCzZbF9ZB4Hla9e3DgRhyLhb107iPimTX4WNS3PKhMDyonIuwCAeOY2BnaSIAmIuW0KqCTK4uNMMhBoDgfh0SC0MY24p8KwFSdFkXkz1SRByIU6uBmy+WS5pAjiOKX57dZXqJivir4miFbv3pN7KuYb5m8CP/bpI06I4/VbERZ1r6XESMQIQ+o+OF/tVGMaT6fkno7mvsRzKzR+BpPHNVMvXEG17lGUMLD104k2AkChjwiTV+7ONarcdjLsG/Lfk+hOm34ApM7Y85/XtHz0GFdMwrrgetuL7yJDLCZMF84dDfmOtK61xjEmH1BrjBfXHflRVlh2qoGgt2263lwGNosoy7ilQt5VDXXoe+ZNxnWsGgYURhiaKBKvUsNE0p46NpJ+TtCoAPyiEtWpW/hE0gbOH8lG/QVaXwy0jkZ3Q96GOoeSGyj50X+vgzamUMGR+5Cvng+kpZwD7I3lHeLNoLdtiIP3euY0GJHEQWl5+Eo1AEPtZIb5YySR4XCEvMNDwkUFR9KeMCqSdG7RGALx1RPHDjMok4Vn6+TFmnggJ1c4Mhj5IFhp+g9Jw/r4H150ZvwegLcm5jrobn8egP7airvFm0Eu21FHosJT4zPaLVa0MTMe6ghitGEZqt28x3cExHycBXwQMdGuawix8gDClvyBgZjCG9DCQ9UMyl21whY3Vmq3bZ5rmC59oc7txKhYii0mJ9xvFWT4da5NyWPCtLxBCmTAc/z5PtcYbM0xMHDUxapJvaFtFFCQ3lOPbdoI9htC/IwE+WTCU146AqT5bMJjQyRyIS5p0EDPDHK5iqikMcA2/FAIsORFVZb8Wop6xo3C7cG+cydiWrHAVbkgBeXcK7AfyTiVG0C3PN7Dfo27lXLUi2DXkGlXroNTvZFDTIAx/Dty9xH/vo2ZKopL/Ju0EbdkUeWRVZVLRShqF5JiyEt6XlAew70a4jC01khjwM1RhrFrpdzu9zb06uK6sE5eg5WvalXPMS3rGOsdu68BLZqwjwvXy8RVqut5vmy9eolvqhviQx2mfCYxs7qRI9cUY8SwCAfbuOch4p5SXMjedUkPGT252iAdnfkwcNWEYLoYhWWkAea6xC/pqsNjYQIQh5AQn63RcDoUOb2aGvntVYrjPR3EbG3a2SEoaKqNEhbTR6cilc1jdWKLPMtGy9Hn5vvQ0rrsUEGBwf7LRR/n4FyYHsNyWN7eYGHmqjUqyQjdRPycHCSwyICeHsprP/G25FZuz9f8rPGSCKKpu7KhHkR4GO+AmdYoi+1oIHjhYP1HgIZxN+cvaTqBOlLegfFB8yVkhcsL88yGUAssTIhD4hvO/sqil0lb5C6oo06II87qlptpSbTs3YrsaTnETToHk9BHu5QQexYj89C2WOGUG4kUMI9VkuK6gMCFY6ptnggjwIBQRfLnHasBDwT099YenPNyFDkL+RXIcMGDPwVisgvJl+5fRUkL5W3kDIf8ivgm3+f1WLC/I7uSr/zMHMekwXFvt+oe03II9Koh75kFDCc1APZlF2PTVgKeRy6MQ9RPhxhsEsBnKm7ykjNRYwjW3XwJLMZPvI8d5731I4D1akjnos555LnIW/BuSIvJo6qRQFVTh955PJsY1+e5KXyeqnMCcoP2sjchd22I4+7O1pM+AvzYLWVmrlv1+uQpbqxRu3BtRLysENX3PbYjgJjtyXLJKGEPaiViNA5ArwfFe/TNHa2JnG2FgmdrtErf/I5d2Jq8tdsbZLvA5U7VxbfEgr0z26FYrZH0WOspqZMQPm2KZhD0VugTL29s9ALsFusWL3GsFIOXhMZQAiZmj8xK8p4It7k77+IgWw221d9eRu2kakm7LY1ebCTV5siOku91LJd+c4j16iUjkrJQ80q5ksplT7ovYDK3r+ghCnBI3XJEeCVVf6Ghuz4xvE3crwZez0PzmtNar8n67BNHuGWJXbFlOmROP7IDrd6hOU441ha54WnMFmu9s5yvsOwVXbJrkQOTwaeiC9iVLoxYmGzw7h91Zc3Xn5pG5l6wm47IY+6w1BN08mwldXKJA+ghElWTiolCCSKAOxWyCPRBh5CtaCEQ5BVZBQEBAGNAOxWyEM04mAIQAkPJoAULAgIAo0RgN0KeTSGTh7oCgEoYVf5ST6CgCCwewRgt0Ieu8daSihBAEpYclsuCwKCQA8RgN0KefSwcY5FJCjhsdRX6ikIpIAA7Da7ubmh6+tr9f/HH38Q/tX2ybyF8nJJV1dX9v/3338n/r+8vLT/FxcXhP/ffvuN8H9+fk74//XXX4n/z87O7P/p6Snh/5dffiH8n5yc0P/6v/9b/bOg8i8YiA6IDogO9EsHstvbW+rjP8gjBaaWOsQRYGcgf4KAIDAsBGC3Qh7DarekpIUSJlUpqYwgkDgCsFshj8Qbus/VgxL2WUaRTRAQBHwEYLdCHj4ucrZHBKCEeyxSihIEBIGWCMBuhTxaAimPb48AlHD7HORJQUAQ2DcCsFshj30jL+VZBKCE9oIcCAKCQO8RgN0KefS+qdIVEEqYbg2lZoJAegjAboU80mvbwdQISjgYgUVQQUAQUN/dMQwtyOMJ/Z+//ZX+UvX/X/9Df2z5HYl857EHLV1zLAGOO+AH1fFL5qA5Y8oD8HCAnynFg6Q1SZuHs/TLk7PjRqCoQzq+RBNUtshjObU67gdh0uWu1xw4yQlmlY29gFGedCbuRmgz89BoEMNkQzwRL2+ObxLYYyU+dWy8ECcko3EhrkouBV76WpDHn/TH6RP6OfZ/7+/0H3/7K/3HvT+3/gBRyCNvrF0c2ShmSnHLyMMJboOIcNaAwihqTdLqGkEJd1E/yXOICCBAkw5ypHe5mNOUnaUXBbCqbtvk4ehuFgm9aqMcslwcfdAhES8MLssVKZ+jAxqC8JIb8uCXMRul0EY3jAWbiuTNwaRK8Kln48U856hfELgKqMNuW5BH+ZfpP/8/7pH8nX7estfBX7wLeaCpuv7NDYUNcl7R87DK52k8Rx+bqtDDblzyJmlRIyghzuX3mBGAXoYvJU0w2S4Prbtjms+1Xoc9D77PtuJFxLS9Bv/FC3YQmAwR0rs3zDX3Unltm9QNaZkIq20cYXNDGXA9xILlg912Tx5v/qd1r0PIo1yFWt9RCgsDhZL5BqDLwD2kdUvGPTyH8zpp83yghPkVOTpaBIwjjTmr2phslYd582bvWRViuSBEXOcRP3zuMQ1H053r3ofrpc0191KhGFxoUjeVFrYIOWGryJB/Td1jPYyYvOZR2G3n5NFFr0PIw23gXR5vqVisdlOeK4GCVihhIW1eHyhhfkWOjhUB+/YfOt0GgGyTh9Zj41g7IA/0PEISjF5vQB7b1E1DV2HjIIgYeVQQC+y2W/LoqNch5NHAYlolraFYJa9FMAZ1G0pYJ60jL5TQuSSHR4oAnPicx/DtvJp+QZmGQ0YlGDXOw+itdfRNyCMydKvFgk3xpPOclus1LedmjiSchLbl693L1RzPOs6ejetmMYI8kZ4H7DZKHuXPwW47JY+ueh1CHrbld3xQriDRbrYjjZCHA4YctkQAeshkoZ3uXIWDwGrAjNz5tXhhTfMw6V3HWUUeazj4OeUTyhGHrITTK6K4Lvi3BOUKD+ftpNPpeSWXSyJN6+YVUjGviXwxglDvuR2Qh16622aFFZMG/mXC3G3IXR1DeSJGAMWu05toktapCpTQuSSHR4lAroeez1RY5PeWldjk6WrlYYjCU+8K8sDLEsiAf3XPIiKUXR47prHtRYWEEHmOp0aWZm4kyyiXrWHdvKzzZ2P45fXSS4+598MLB7A6LLaMH3bbWc/jj3v/SX/523/Sf7/JCQBEsM2vkIenATs6qVCsJoTQJK1TEyihc0kOjxKBCj20c2auM42B1CQPZ5LczaqCPNxkRGu14lA72OCt3eSRjXnIyjzF31GoVY11elCqwrrHYntFTermS8qyVq2o5NS8enIM+bgXxMvy56bXZ2XI84XddkQef9J//9df6S8tPgoMCUbII2+s3R1VKVaTSfAmafPaQAnzK3J0rAjoMf3AERsw9L1N5BEu4vCRdPPA23bh+wr0Esx3Fxs/LQFR2C6CsYPoR7ewtXgdPWnxMuY47u3xQbmR0QWv0PCkhGA7X6rb4UQ5SETII2zMXZxXKVbVvdBImqTN6yHkkWNx7Edw6NYPW0CgW5udbt08kM4dgoodR+cprFyRHkLE6fvJ3RWK7p3gOJIPZG6OD/BrSB6GGIvldf2dx+nfOx2yYgIR8ggUaien1YoFhQ2NCNfdSUxcq5MWVRHyABLyi28seLgHoz0KFbzdu9fhXMPVS7G0nEnZ9RB2k87XYbaRMRW2FlHbhJgJcethw5cqt4BqW8tTIl3wpXtZHcqu2wyRXwPyAL4u5ja/jsmjy1VW0vNwWmknh7wSJN8OAeO2etuFabBfD4yBx0HNM3ZsNFTGJml1xYQ8dtLAA80UTk6/navtOjCMZL8nMlWDwywMDzXII4ZSKXlg1dTYbiNSNqGMlyg9b2BWaPEEtLGbnJh4ryzeJy7P09v2pOC4m9Stvo1jOMxuj2Ltu7ynB7vtYM6j+/kO6XnENLura46TLywRZCMJSKGwaZred8h7O4RoTdI6Y6d4XH6PHYHipn/RFU14Mw57Hgq+mnnEoI6SByfkbzVyAlBDXGpSOdiyxOTJK6b8b1X0ZqJh7yWWTm9yGLUuLUewKWIUH3zgF7Vv38YLk+UZ23e8XoCsQ/LoZnUVehz4lWErNFW6v1DCdGsoNRME0kMAdttBz0PIIz312E+NoIT7KU1KEQQEgS4QgN0KeXSBpuSxFQJQwq0elocEAUHgIAjAboU8DgK/FMoIQAkFDUFAEBgOArBbIY/htFlykkIJk6uYVEgQSBgB2K2QR8KN3PeqQQn7LqfIJwgIAjkCsNvs5uaGrq+v1f8ff/xB+NchIPU65aurK8L/77//Tvx/eXlp/y8uLgj/v/32G+H//Pyc8P/rr78S/5+dndn/09NTwv8vv/xC+D85ObEfCbKg8i8YiA6IDogO9EsHsru7O+rr/08//ZTTnRwlhwA7A/kTBASBYSEAuxXyGFa7JSUtlDCpSkllBIHEEYDdCnkk3tB9rh6UsM8yimyCgCDgIwC7FfLwcZGzPSIAJdxjkVKUICAItEQAdivk0RJIeXx7BKCE2+cgTwoCgsC+EYDdCnnsG3kpzyIAJbQX5EAQEAR6jwDsVsij902VroBQwnRrKDUTBNJDAHYr5JFe2w6mRlDCwQgsggoCgoDdVuj/A7+geuT//2itAAAAAElFTkSuQmCC)"
      ]
    }
  ]
}