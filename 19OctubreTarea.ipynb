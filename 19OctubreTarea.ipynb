{
  "nbformat": 4,
  "nbformat_minor": 0,
  "metadata": {
    "colab": {
      "name": "19OctubreTarea.ipynb",
      "provenance": [],
      "collapsed_sections": [],
      "authorship_tag": "ABX9TyPE3wp7Wkvi5CoCAYT3i+V5",
      "include_colab_link": true
    },
    "kernelspec": {
      "name": "python3",
      "display_name": "Python 3"
    }
  },
  "cells": [
    {
      "cell_type": "markdown",
      "metadata": {
        "id": "view-in-github",
        "colab_type": "text"
      },
      "source": [
        "<a href=\"https://colab.research.google.com/github/NetzaiHernandez/daa_2021_1/blob/master/19OctubreTarea.ipynb\" target=\"_parent\"><img src=\"https://colab.research.google.com/assets/colab-badge.svg\" alt=\"Open In Colab\"/></a>"
      ]
    },
    {
      "cell_type": "code",
      "metadata": {
        "id": "-ripEC1Ecr59",
        "outputId": "e1ff8a5d-d3ac-4614-da46-3cc14b8e9f2d",
        "colab": {
          "base_uri": "https://localhost:8080/",
          "height": 849
        }
      },
      "source": [
        "def ejemplo4(n):\n",
        "    count = 0\n",
        "    i = n \n",
        "    print(\"nivel 1\")\n",
        "    while i >= 1:\n",
        "      print(\"nivel 2\")\n",
        "      count += 1\n",
        "      i = i // 2\n",
        "    basura= 3 + 2\n",
        "    return count\n",
        "\n",
        "\n",
        "print(\"--Inicio--\")\n",
        "netza = ejemplo4(5)\n",
        "print(netza)\n",
        "print(\"--Inicio--\")\n",
        "netza = ejemplo4(10)\n",
        "print(netza)\n",
        "print(\"--Inicio--\")\n",
        "netza = ejemplo4(20)\n",
        "print(netza)\n",
        "print(\"--Inicio--\")\n",
        "netza = ejemplo4(30)\n",
        "print(netza)\n",
        "print(\"--Inicio--\")\n",
        "netza = ejemplo4(40)\n",
        "print(netza)\n",
        "print(\"--Inicio--\")\n",
        "netza = ejemplo4(100)\n",
        "print(netza)"
      ],
      "execution_count": null,
      "outputs": [
        {
          "output_type": "stream",
          "text": [
            "--Inicio--\n",
            "nivel 1\n",
            "nivel 2\n",
            "nivel 2\n",
            "nivel 2\n",
            "3\n",
            "--Inicio--\n",
            "nivel 1\n",
            "nivel 2\n",
            "nivel 2\n",
            "nivel 2\n",
            "nivel 2\n",
            "4\n",
            "--Inicio--\n",
            "nivel 1\n",
            "nivel 2\n",
            "nivel 2\n",
            "nivel 2\n",
            "nivel 2\n",
            "nivel 2\n",
            "5\n",
            "--Inicio--\n",
            "nivel 1\n",
            "nivel 2\n",
            "nivel 2\n",
            "nivel 2\n",
            "nivel 2\n",
            "nivel 2\n",
            "5\n",
            "--Inicio--\n",
            "nivel 1\n",
            "nivel 2\n",
            "nivel 2\n",
            "nivel 2\n",
            "nivel 2\n",
            "nivel 2\n",
            "nivel 2\n",
            "6\n",
            "--Inicio--\n",
            "nivel 1\n",
            "nivel 2\n",
            "nivel 2\n",
            "nivel 2\n",
            "nivel 2\n",
            "nivel 2\n",
            "nivel 2\n",
            "nivel 2\n",
            "7\n"
          ],
          "name": "stdout"
        }
      ]
    },
    {
      "cell_type": "markdown",
      "metadata": {
        "id": "zoPDmLvJpThD"
      },
      "source": [
        "![image.png](data:image/png;base64,iVBORw0KGgoAAAANSUhEUgAAASEAAADoCAYAAACgjVLTAAAgAElEQVR4Ae1dz0/syLX2/5HVk7LKaha9iTeze1L+gGQRdaSsOtto3mZ2Uc/iScmqlzMMCALNg8BtLgMXX7ggBIIGIQgIZsKm9/wb56lsl7vaXW5Ot8t2ufxdyWrjH1WnvvPdz8dV5Tre29sb2bqtDf6PVv/zGZujGAj/2so92JVfF56fn1n+9WwGGyLktgBDhPL/R7f5/+/T0xNECFGU3SIGEXJbhP7973/XT4R+/vnnCaMRCdktInlFHiLktgjd399P/H/OitqseR0TAvTp06cJoyFCEKEs4uK4/QJ2d3c38f85y2dWiJAUIIiQ26KTjpwQCdkvJFnCwTl+e3tbDxFSBQgiBBHikBvX1EO8hsOh/SKUFiCIEEQIAlMPgeH46erqym4R0glQk0Xo79/+hjzPo19/u9KYeVHOv44Nu9TyvNCvwrdya7W7NLR4fh5HYDjXXFxc2CtCWQLUXBH6jr4WAvSVEKLf0TeOTk5sXJ9QLEKtbp/6/T71u21qt1qRGLXcF6Lz83M7RWiWADVWhL7/XSQ+n/9Cv/Y8+vr7ZryWNSUSavcnX7GG3UiI0sc50UWdrjk7O7NPhN4ToKaK0De/98j7/Xe0+p8V+uNXct99IWqqCL3122E05LoIffnyxS4R4ghQM0UoehWT0U/UN/Qb+uNniFCdnvpaW+PXsbTYRJFQi7rDyQhJW0aN+46Oj4/tESGuADVRhCLRUfuB4v6hBnRQNzESGvajzupWlzd8XWdhCoLADhGaR4CaJ0L616/w9eyrv9DfHe+gbooIyVEx+dtq9xsxOpb+/5wlqIXOmJ5XgNJGC5KmR1Sc+jurIzrsqHa/g7opIpSMjvW71G634mF791/HDg4Oqo2EFhGgpolQGPFoh+SjV7Kos9rdvqGmiFC6T+jtrU9tMW/I8WH6/f396kRoUQFqlgjFQqNMYpPh+vhX7StyT4yaK0Jv1G+LyYtt6te44znr9Uoe39vbq0aE8ghQo0QofOX6DX397Xf0zfea7Vsxd8jtGdQQIbdFaHd3t3wRyitAzRGhuEN6ZudzHCnNvKbe0VFjRWjYjNexf/3rX+WKkAkBaowIxR3S730nFvUZuTtnqCki1NSO6a2trfJEyJQANUWE2BMSY7FytYO6KSI07uOLPmIVH7D2HZ+oKPqFNjc3yxEhkwLUFBFyappBjrlMzouQw53OsvN51u/GxkbxImRagCBC9e7jmVdcIUJuf7bxz3/+s3gRmqWCJs4Jks5LbFxfHyGDCLktQqurqxAhCJLdggQRcluEVlZWIEIQIYiQiYgcZSwmlj/++CNPhF5fX+mXX36hl5cXEmlbRdbEx8dHenh4IJE3SKTtEKvm39zc0PX1NYl1Yy8vL0ks3ShWThMLF52entLJyQmJT/fFl7NHR0d0eHhI4tsRMXVbzJwcDAYkJi/t7OzQ9vY2ieE70XsuOq/W19dpbW2NRPgm1HN5eZmWlpbohx9+wAYMwAHHOVDoB6x5nyBChPDPXQTEww//3EWA61+IkLscsL5lXJJa3xAYqEWA61+IkBY+HCwDAS5Jy7AFdZhHgOtfiJB57FEiEwEuSZnF4TLLEOD6FyJkmeOaZA6XpE3CxKW2cv0LEXLJ6zVrC5ekNWsWzI0R4PoXIgTKVIYAl6SVGYiKcyHA9S9EKBfMuDkPAlyS5qkD91aHANe/ZkVILNbU8mh6Td3FZlxinlB1BCqjZi5Jy7AFdZhHgOtfQyI0DPNst+L1kiFC5h3qYolckrrY9ia0ievf3CIk82p7XovaLbM5thEJuU1VLkndRsHd1nH9m1uERNaAMJmbWCnOcI5tiJC7BBUt45LUbRTcbR3Xv7lFaOL7MIiQu4wqoGVckhZQNYosAQGufyFCJTgDVegR4JJUfzeO2o4A178QIds96bB9XJI6DIHTTeP6FyLkNA3sbhyXpHa3AtZlIcD1L0QoC0EcLxwBLkkLNwQVFIIA178QoULgR6EcBLgk5ZSFa+xDgOtfiJB9vmuMRVySNgYQxxrK9S9EyDHH16k5XJLWqU2wdYwA178QoTFm2CsZAS5JSzYL1RlCgOtfiJAhwFHM/AhwSTp/ybjDBgS4/jUrQoZzb+OzDRuoVJwNXJIWZwFKLhIBrn8hQkV6AWXPRIBL0pmF4KS1CHD9CxGy1oXuG8YlqftIuNlCrn8hQm76vxat4pK0Fo2BkVMIcP0LEZqCDgfKQoBL0rLsQT1mEeD6FyJkFneUNgcCXJLOUSQutQgBrn+919fXcHGpl5cXen5+pqenJ3p8fKSHhwe6v7+nu7s7ur29pZubG7q+vqarqyu6vLyki4sLOj8/p7OzMzo9PaWTkxM6Pj6mIAjo6OiIDg8P6eDggPb392lvb48GgwHt7u7Szs4ObW9v09bWFm1ubtLGxgatr6/T2toara6u0srKCi0vL9PS0hKJ0THREGzAABxwlwOIhCx6cjTNFO6Tsmm4uNJern8hQq54vIbt4JK0hk2DyXMs3wsRAl0qQwAiVBn0pVTM9S9EqBR3oBIdAlyS6u7FMfsR4PoXImS/L521kEtSZwFwvGFc/0KEHCeCzc3jktTmNsC2bAS4/oUIZWOIMwUjwCVpwWag+IIQ4PoXIlSQA1Ds+whwSfp+SbjCRgS4/s0tQsN+l9otj7w4D32YDrrbp6GBZT2wlIeN1MqwadQjP+GAygex36FAcxuXpJpbcagCBEajgDq+r/xf96nTC2iUYQvXv/lEKM642mq1qdvvU7/fp247ykfvtfs0kZ11AVGCCGV418bDsQj5foc6nfSmJyqXpDY2t2k2jXpSfHzyQ//Kvz3yOrpHDD/Nd04R6lJX5KBPCYzITy8iIt259LWz/oYI1YjqsQhl8FHbEIiQFhYrDwoR8tNRTxL9+tTThENc/+YToZT4JIJiKCc9RMhKPuqNggjpcXH66Ih6fvTqrXv4QIScdr6FjYMIWeiUok2SImRhJBS9jrWpnxUpMY8jEiqaRAbLj0VIhOxiJYVwG2lidKVK7pNSuQW7ViEQUCccjMg38GD+dUx2VneHU31FyesaRMgqKhkxJukfSI+MiREUvRhBhIwgX1khSWe17l2sqg9Yh91oZKxlYGRMCBYiocr4ZaTiUTAettfxFCJkBOZqCkkeOvooSBjF9a+hSGhI3XCuUIva/fwRkIyYIELV8MtorUEnmlfi96bmk3BJatQeFGYAAfkapu8LkhVw/ZtfhIZdaon3wlaX+prheikoi/xChKQ7a/wrn5gQoRo7UTVddkZ7pItu1StLEqE+tYUAtc3MkE4LFURIdWlN9yFCNXWczmy+AIm7SxGhcBSs1TXyiUZagMTfECEdEep0bExaX9M5zSVpnVrsrq1jX3YC/UBDuu1c/+Z4HYv7gcRrWPzJxvRvvv4hiFDarbb+Lb4p8sj3feWTDWVav+ZVTLSES1JbW90ku4JOPOqp/SynE35DlsaD69/8IpT50WLUT5TnQ1aIUNqt9v4tRsImP270yBOiNOOpySWpva1uimXjKGj8oXpqKobmQcP1bw4Rmv5mTPdKlecYRMhtknNJ6jYK7raO61+IkLscsL5lXJJa3xAYqEWA61+IkBY+HCwDAS5Jy7AFdZhHgOtfiJB57FEiEwEuSZnF4TLLEOD6FyJkmeOaZA6XpE3CxKW2cv0LEXLJ6zVrC5ekNWsWzI0R4PrXe319DedrvLy80PPzMz09PdHj4yM9PDzQ/f093d3d0e3tLd3c3ND19TVdXV3R5eUlXVxc0Pn5OZ2dndHp6SmdnJzQ8fFxuITD0dERHR4e0sHBAe3v79Pe3h4NBgPa3d2lnZ0d2t7epq2tLdrc3KSNjQ1aX1+ntbU1Wl1dpZWVFVpeXqalpaVwsqJoCDZgAA64ywFEQnhuVYYA90lZmYGoOBcCXP9ChHLBjJvzIMAlaZ46cG91CHD9CxGqzkeNr5lL0sYDVVMAuP6FCNXUwS6YzSWpC21tYhu4/oUINZEdlrSZS1JLzIUZcyLA9S9EaE5gcbk5BLgkNVcjSioTAa5/IUJlegV1TSDAJenETfijNghw/QsRqo1L3TOUS1L3Wt6MFnH9m0+EhlHu+XCNabmuUMvcYvdYysMiso7EekFiDZns7ApEIwo6PvmSC55Y6KxDWUsKcUlqEQqNNmU0EovXKYvVeSKdUzCVwECCxPVvPhHqt6nValM3WVmxS+0w64ZHLeQdk76o/W+SXyoUlywRUha+kissJoTVZ2XgkrT2ALrQAJk1xfPJ73So01HEKGPFe65/84mQNonheNnXPKsqYo1pG5g7FhaRWTXKO64XoUSoUoQcSfKmjovWcUlqAxJNt0H4V3BgYnVpmcQgIzrm+rcAEXojpIF2hLIhyWQUIwVJJ0LynLxWbb88N30fl6Rqadi3CQHpW53f+Q+ZAkQojoQMZGFFn5CNhJsWE6I4GZ5mnWHRgmiR9GmiQoRs8u8ittgoQsMhddsiFXSLugYSIUKEFiFGUfdIwmlESIblmlcuYY18VUufhggV5auSyp3xqi0s4Po3fyTUb0dpfuMRkVbbXB4yiFBJZGJVAxFiweTyRaMgXKonCHrUkx3TYvQzo83lidBwOM471hWjZWIYVwzT58/GARHK8G4lhyFClcBuUaUyolXT/vidXu4pGPkjIc0IWdQxnf+VDCJkEQMJImSTN6q3ZURi5DOaEzbd3yfsKy8S0ojQ27BLYgJj3rlCEKHqqTa2YIYIoWN6DFPT9mb0C1khQnlfySBCNjF6lgjNOhePnGnmknBJahMKsCWFgBQhzcgo1794HUthij+zEJglNOMRML83MZ0tGRnz0kNjc4TrWRbheFkICN/71Jv6/kZ8phOng87h3xwiJOYDtajd7o4/2+jis42yaFFOPYJkYop+tMn3/2jafif13ZCMeEQO+vie8Fuz7O/NuE/KctqKWrIRkA8g4Us/xYf8/s0hQm80TEbDYjUU/UCtNvUNzBHCZxvZlCjvjCIsykep49GR1PDsKBgP3YbXi++MepNT/RXjIUIKGNbvjijodchPHiziYWPDB6y6TmmDx9AnZD0zcxkIEcoFn/U3c/2bKxIS0UqRG0TIep7lMpBL0lyV4ObKEOD6FyJUmYtQMZekQKqeCHD9CxGqp3+dsJpLUica28BGcP0LEWogOWxpMpekttgLO+ZDgOtfiNB8uOJqgwhwSWqwShRVIgJc/3qvr6/hNx4vLy/0/PxMT09P9Pj4SA8PD3R/f093d3d0e3tLNzc3dH19TVdXV3R5eUkXFxd0fn5OZ2dndHp6SicnJ3R8fBx+ZXt0dESHh4d0cHBA+/v7tLe3R4PBgHZ3d2lnZ4e2t7dpa2uLNjc3aWNjg9bX12ltbY1WV1dpZWWFlpeXaWlpiUTHtGgINmAADrjLAURCJT4ZUNUkAtwn5eRd+KsuCHD9CxGqi0cdtJNLUgeb3ogmcf0LEWoEHexsJJekdloPq95DgOtfiNB7SOJ8YQhwSVqYASi4UAS4/oUIFeoGFD4LAS5JZ5WBc/YiwPUvRMheHzpvGZekzgPhaAO5/oUIOUqAOjSLS9I6tAU2TiPA9S9EaBo7HCkJAS5JSzIH1RhGgOtf4yI07Iq8Y/nXl8Z6QoYZsWBxo1FAnSSnfLyoVTodcFK2WATNjxc/j9aY8kVKmMnFFpOruSRNbsCOPQgki9x7lF5NUxrJ9a9hEepTW+Yf6w5zL/OBpTykO6v5Had4EYuTidUS/XGOuanlPJXV98RiV+L6RLzyZWOopvWoNRsBxdeeZSIUpfqJnoB5M20gEsqmQFlnhAj56ahHZlv1JoUlEayUOIm0MOFKjKnjog3cJ2VZ7UU9PAQiX/vU60W+tScSCjOxtqjbN5PuByLEI0T5V42fgmNdkccmhSmyTZ5LLQULESrfdUZqjJf8Fc6PHzCWiFD0GhZGP4ZyjkGEjDCmgEKkqKiCExNTk/ZFGBBlZFCvj8xCJFSAewouMvJl/ECxR4RE1g2PvFacgx4iVDANqi5eLn6vRDbyFW0cGk0YKV/V0qchQhMw2f9H7Ock8rFFhKJ+oDb15XrTECH7yZTDQikoE3nEIEI5EK3LrXEErEa7NohQNByfyjkPEaoLq+a3U4pNOpuqPJ4OdeIapHClTyMSmt8Fld0RC86EDysXobAj2qOpVM8Qocp4UmzF8jVsum+HIELFQl956UpntGpLtSIU9wNpE+KNEyGKodkpkZKvbYxfzBNSPV7lvuyM9mjiSZiYhI7pBAoHd2QkKyaeymy8E/PA4uO9YLLx3Eh34cmKw36f+rpNZGUVM6bb3fD8MEc2VojQpFOr+es9ARJWyWuUzurEWBlBTZ/jkjQpCjuVICBFaJx5dzLQkMeTDuvYSq5/FxYhMYSu3fA6VglRiqlUiouIgDK+vYgrlkRNE1Een+jInpOkxbQNpeZGoNrXsQwBEsIEEcrtW1sKiOaEiJzjqTA8/ISjQ52J+FtGPMr1Sd7y6ShItJH7pLQFD9iRQgAilAIEfxpGYBwFyXB76lcdrhW1jwLqqd+XeeKbsx5lxVAQIcMuK7s4a0Uo6zVtgePoEyqbVeXWBxEqF++ya+P613yf0AJio+1bensL846VDRzqKw8BLknLswg1mUSA61+IkEnUUdZcCHBJOlehuNgaBLj+hQhZ47LmGcIlafOQcaPFXP9ChNzwdy1bwSVpLRsHo9mjnxAhkKUyBCBClUFfSsVc/3qvr6+hYr28vNDz8zM9PT3R4+MjPTw80P39Pd3d3dHt7S3d3NzQ9fU1XV1d0eXlJV1cXND5+TmdnZ3R6ekpnZyc0PHxMQVBQEdHR3R4eEgHBwe0v79Pe3t7NBgMaHd3l3Z2dmh7e5u2trZoc3OTNjY2aH19ndbW1mh1dZVWVlZoeXmZlpaWwo5p0RBswAAccJcDiIRKeSagEh0C3Cel7l4csx8Brn8hQvb70lkLuSR1FgDHG8b1L0TIcSLY3DwuSW1uA2zLRoDrX4hQNoY4UzACXJIWbAaKLwgBrn8hQgU5AMW+jwCXpO+XhCtsRIDrX4iQjd5riE1ckjYEDueayfUvRMg519enQVyS1qdFsFRFgOtfiJCKGvZLRYBL0lKNQmXGEOD6N7cIqamfJ9ebUdIALfhlPZbyMMaHhQsajQIlp7xY1tMPFzPTrxE0oqDjk6+sPS7WJc5alJFL0oWNx43mEJDJDBTfjv+/51u0LqcIycSHbepOrTc9pOGC4iOX9oAImePQQiXFi1YJ4fHD1RT9KK+8IOLUivfKImi+Hy2I7svrNRk6sLLiQi6p7KZYhKYWuw95EWgXruM+ZMyIULuvX28aIlQZZ0xULNaH9nspgiVPxMmnX9Za0iMpZFOiheVdTfiotDJiv2vcmGkCRCgTGpzIh4CMeNToRndM1iLPTYqWOMslqSwJvxUiYK8I9akt0vt0h4iEKuRHuVVLUVFFCHnHyvVBBbXZLkLjDiqPvFaL2n0zooQ+oQrI9l6Vutcr+YqWEavLV7X0aURC74Ft0fnYx+L1XKyUEW4j/fCEtJrr39x9QhMJEEXiw1acGM1APxFESLqzwt+RJF1vnElDjHipJkGEVDTc3Jc+nhodE6OlejEqSYT0+cfksH2eFNBihAwiVD2fZRSjRrsijc/EsLskaDrUic2XZaRPc0laPQqwQIfAKOgl0zHSvhXXc/2bMxLSi5CpBIgQIZ3rqzw2IjHaFc0DUvqEIEJVOqXauuXreToHXeUi9BZ1WHs5X8kgQtXyK7N2Sbzk8YeO6UysXD8hH0DWiZChVNAQIUsZLEUoIZ4cMUv1FYXmy/TQ0+e44bqlKMAsgYCdIjSkqE+oRd1hxusacxIjRKhKngth8ak30fkTso6SHPVJJCS4GM2O9lOdlPL49Axrfp9BlSig7lkIyIePR2m/i7u4D5l8fUJ9MRrWpm63T+EoWbdL7Xh0zMTcIYjQLAIUfW5MsPB7sXB6vuwPEiOg6chGRjweeX4n/mwjHimdujaynUvSoluK8t9DQHw/6JEvP8dJf8KTRMST5XD9m0+ExGuXHJKPh+5CUcI8oUlv1PavEQW9Dvm+FBMhMDM+YB0F42H8kA/im7Oe9rsiAQmXpLWFzyHDxUhYJ/kWMOaD4MJUpDxuNNe/+USI+VolP0id9xeR0NihLu5xSepi25vQJq5/IUJNYIOlbeSS1FLzYdY7CHD9CxF6B0icLg4BLkmLswAlF4kA178QoSK9gLJnIsAl6cxCcNJaBLj+hQhZ60L3DeOS1H0k3Gwh178QITf9X4tWcUlai8bAyCkEuP71Xl9fw6HSl5cXen5+pqenJ3p8fKSHhwe6v7+nu7s7ur29pZubG7q+vqarqyu6vLyki4sLOj8/p7OzMzo9PaWTkxM6Pj4OP/E/Ojqiw8NDOjg4oP39fdrb26PBYEC7u7u0s7ND29vbtLW1RZubm7SxsUHr6+u0trZGq6urtLKyQsvLy7S0tBR+wCoagg0YgAPucgCR0JR+40BZCHCflGXZg3rMIsD1L0TILO4obQ4EuCSdo0hcahECXP9ChCxyWtNM4ZK0abi40l6ufyFCrni8hu3gkrSGTYPJc3yWAxECXSpDACJUGfSlVMz1L0SoFHegEh0CXJLq7sUx+xHg+hciZL8vnbWQS1JnAXC8YVz/QoQcJ4LNzeOS1OY2wLZsBLj+NSZCw3CBM2XdmRZWVsx2T03PJIvc61fSIxpR0PGTDAwiQ4fIXZ615AyXpDVFyy2z5TKuUyl/xP/59AJ3UdO5/jUgQkPqytUU291ohcV+l7ptkQQRy7u6w0R1pUWdCCnn5Qp8ySJYSmYOBRAuSZVbsFsVArEIiYdKJ15lc/wbaBeu4/o3twgNuy3yvPxRj27BMyxqVhXjpuuN1or2qdfrUBjhMNeSFimCwpxlynrUsnQuSeX1+K0QgViENG7MNIrr33wiZCirhk6AxDGIUKZ/Sz4Rrx8tGBiLyuTC5jIK0kU88tx0yM4lacmNRXU6BGwVoSgKalO/oGVeIUI6NpR/LMquEYuIVoSQd6x8r5Rco60iFKb2aXVpOOwnWTbC0Ftk4MiZ7geRUMkky6pO9gXI1y+dCMXX6NL6iGJl2p90KI9IKAt0C48nPAjClTKCIKBgpM9BL63n+jfH61jcId1uU9vzqCU7pbsiDVA0SoaOaemOuv7Gr1JqSheIUF2dmc9u+aCZGh0T2Vf0YlSeCHmeZhQsTgMtoqQcr2p4HcvHm9x3x4IzEcFAhHLD6koBIg2QH4vSBEfiBpYnQhlCY2LUDCJUJV2VzmjVDIiQigb2Yz54arQcowIRAj1yISD7cabmhci5P/F8kV4gqkHHdC6w63yzfE2rRoTeaNboWJSPPt/IGSKh6tgpRSgcaJjqBxjPjI+G6rOH4ROB0syq5T4pq0MBNb+LQNUi9JY5TyjuE2r3KWsOEOc4ROhdCpR/ge51TBkBm5w/NB4Z042cQYTKd5/ZGuXDRzeDnp/mO8foWPRJRr8tZkynRsfCJ2e+KAhD9GbpYqy0DBEaRzwiX308tT/JYT89UVHYAxEy5pWCCwqo44vvAH3lkw0/mgkv/q9rXsXm8W9uERJiEX68qoTs4XA95gkVTIyKis8UIREOBdTrKOT0fPI7Pe13RfOQtKKWoloFATES1pH9gfL/uhClrK+T53jIGBEhzqvVItfgdUxhgYO7iIQcdKrSJK5/IUIKaNgtFwEuScu1CrWZQoDrX4iQKcRRztwIcEk6d8G4wQoEuP6FCFnhrmYawSVpM9Gpf6u5/oUI1d/XtW0Bl6S1bWDDDef6FyLUcKJU2XwuSau0EXUvjgDXv97JyQkdHx+H2+fPn0lu4af64nP9IKCjo6Nk+/TpE4nt8PAw2Q4ODkhuP/30E8ltf3+f5Pbx40cS297eXrINBgOS24cPH0huu7u79F//89/hJhqCDRiAA+5ywHt5eSEbNylCi+sw7rQdAe6T0vZ2wD49Alz/QoT0+OFoCQhwSVqCKaiiAAS4/oUIFQA+iuQhwCUprzRcZRsCXP9ChGzzXIPs4ZK0QZA41VSufyFCTrm9Xo3hkrRerYK1EgGufyFCEjH8lo4Al6SlG4YKjSDA9S9EyAjcKGQRBLgkXaRs3FM9Alz/QoSq91VjLeCStLEA1bzhXP/mEKEN+vOffku/mrV98w/6vOA8JMwTKoGBI7FGjFiqVb/oWGTBiIKOn2RVEAvYiXWn9cvIzHMtFjUrwcOGqhivoJi93O909t0SROgLfR5s0I+6bemv9PWffktfL31ZeCIkRMgQfzKKmVxDOkuEFPLJVfWSha3SpJvn2sgoLkkzmoDDpSEwoqAXr5bZmf6N0v5Mc4jr3xyRUPZM6x//V0RIf6UfF4yCxAxuiFBRDBuLhd8LqDcjEkqEKpVUaiTTvCjH57lWtoxLUnk9fi1EQMMFaSXXv+ZF6OIfuaMgiJB0YwG/YXYEGcVIQZp+ihHJc/Ja1RZ5Tt4n/+ZcOy6HS9LxHdizDYGgI17ndX7nv24bFyETURBEqCyqSfGQYqLWO08usXmuHdcBERpjUcu9Gel+RHu4/jUrQoaiIIhQWZScIUKSYMorl2qVfP0KT89zrVIIl6TKLdi1CIEoCvIogyLViJCpKAgiVBbTIEJlIe1ePXH0O2NklfuQMRgJRUP2eUbEhPjIDR3TZdAWIlQGyi7WISPhdLJLta2li9DnpT/Qr/70B/rbxVhIpKAs8gsRUt1Z1D5EqChk3S73/ShItL9kEfpCf/vmt/SrHJMT00IFESqDxjNEiObpbJ7n2nG7uCQd34E9KxCYMSyv2sf1r5nXMYMd0lKMIEKqO4vanyVCs86ln4TzXDtuC5ek4zuwVz0C0tf6YXnVPq5/zYjQ4K9GX8WEEEGEVHcWtS8JpRuiJ8p675fHPWVYRB5L9xHI4+q1sjVcksrr8WsBAjIKysg/r1rI9a8REVt/QSsAAAFjSURBVDI5KoZISHVjEfvi+67x1Ptoyr3IGR8f6wVK7ngZ8Xjk+fH5cIa17nuzea6N2sUlaREooMzFEHhvWF4tletfAyJkvj8IkZDqStP7ilh4QkzSWyoqGgXU6/jKdUKweopQKfbNc+0cHZdKDditEgE5H4wRBQkzSxQhM6NhMgKSv3gdq5Jt5dTNJWk51qAW0whw/WsgEoIImXZeU8rjkrQpeLjWTq5/IUKueb5G7eGStEZNgqkKAlz/QoQU0LBbLgJckpZrFWozhQDXvxAhU4ijnLkR4JJ07oJxgxUIcP0LEbLCXc00gkvSZqJT/1Zz/eudnJzQ8fFxuH3+/JnkFgQBye3o6Ijk9unTJxLb4eFhsh0cHJDcfvrpJ5Lb/v4+ye3jx48ktr29vWQbDAYktw8fPpDcdnd3k8mKoiHYgAE44C4HvLe3N7J1++GHH+r/OEALMhHgPikzC8AJqxHg+vf/AZxR2BxH2UY3AAAAAElFTkSuQmCC)"
      ]
    }
  ]
}