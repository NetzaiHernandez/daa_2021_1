{
  "nbformat": 4,
  "nbformat_minor": 0,
  "metadata": {
    "colab": {
      "name": "21Octubre.ipynb",
      "provenance": [],
      "authorship_tag": "ABX9TyOrMMOAa0GNCCmMLDjyg1Aj",
      "include_colab_link": true
    },
    "kernelspec": {
      "name": "python3",
      "display_name": "Python 3"
    }
  },
  "cells": [
    {
      "cell_type": "markdown",
      "metadata": {
        "id": "view-in-github",
        "colab_type": "text"
      },
      "source": [
        "<a href=\"https://colab.research.google.com/github/NetzaiHernandez/daa_2021_1/blob/master/21OctubreTarea.ipynb\" target=\"_parent\"><img src=\"https://colab.research.google.com/assets/colab-badge.svg\" alt=\"Open In Colab\"/></a>"
      ]
    },
    {
      "cell_type": "code",
      "metadata": {
        "id": "Hai00aW1fCpb",
        "outputId": "309ab1ba-75b0-495c-d231-c554a630a085",
        "colab": {
          "base_uri": "https://localhost:8080/",
          "height": 191
        }
      },
      "source": [
        "from time import time\n",
        "def ejemplo1( n ):\n",
        "    start_time = time()\n",
        "    c = n + 1\n",
        "    d = c * n\n",
        "    e = n * n\n",
        "    total = c + e - d\n",
        "    elapsed_time = time() - start_time\n",
        "    print(\"Tiempo transcurrido: %0.10f segundos.\" % elapsed_time)\n",
        "\n",
        "for entrada in range (100,1001,100):\n",
        "    ejemplo1(entrada)"
      ],
      "execution_count": 55,
      "outputs": [
        {
          "output_type": "stream",
          "text": [
            "Tiempo transcurrido: 0.0000011921 segundos.\n",
            "Tiempo transcurrido: 0.0000007153 segundos.\n",
            "Tiempo transcurrido: 0.0000004768 segundos.\n",
            "Tiempo transcurrido: 0.0000009537 segundos.\n",
            "Tiempo transcurrido: 0.0000002384 segundos.\n",
            "Tiempo transcurrido: 0.0000004768 segundos.\n",
            "Tiempo transcurrido: 0.0000002384 segundos.\n",
            "Tiempo transcurrido: 0.0000002384 segundos.\n",
            "Tiempo transcurrido: 0.0000004768 segundos.\n",
            "Tiempo transcurrido: 0.0000002384 segundos.\n"
          ],
          "name": "stdout"
        }
      ]
    },
    {
      "cell_type": "code",
      "metadata": {
        "id": "1UXtaxXoakv9",
        "outputId": "576cb417-3080-42e7-8238-6ef0fcd5c609",
        "colab": {
          "base_uri": "https://localhost:8080/",
          "height": 191
        }
      },
      "source": [
        "from time import time\n",
        "def ejemplo2( n ):\n",
        "    start_time = time()\n",
        "    contador = 0\n",
        "    for i in range( n ) :\n",
        "        for j in range( n ) :\n",
        "            contador += 1\n",
        "    elapsed_time = time() - start_time\n",
        "    print(\"Tiempo transcurrido: %0.10f segundos.\" % elapsed_time)\n",
        "    return contador\n",
        "\n",
        "for entrada in range (100,1001,100):\n",
        "    ejemplo2(entrada)"
      ],
      "execution_count": 54,
      "outputs": [
        {
          "output_type": "stream",
          "text": [
            "Tiempo transcurrido: 0.0008065701 segundos.\n",
            "Tiempo transcurrido: 0.0054121017 segundos.\n",
            "Tiempo transcurrido: 0.0061202049 segundos.\n",
            "Tiempo transcurrido: 0.0080707073 segundos.\n",
            "Tiempo transcurrido: 0.0133838654 segundos.\n",
            "Tiempo transcurrido: 0.0195195675 segundos.\n",
            "Tiempo transcurrido: 0.0249190331 segundos.\n",
            "Tiempo transcurrido: 0.0332045555 segundos.\n",
            "Tiempo transcurrido: 0.0496687889 segundos.\n",
            "Tiempo transcurrido: 0.0540344715 segundos.\n"
          ],
          "name": "stdout"
        }
      ]
    },
    {
      "cell_type": "code",
      "metadata": {
        "id": "ceQ-Ct8Uc6uG",
        "outputId": "15c9a0ff-b23d-487b-8d6c-ce3ee8d22829",
        "colab": {
          "base_uri": "https://localhost:8080/",
          "height": 191
        }
      },
      "source": [
        "from time import time\n",
        "\n",
        "def ejemplo3( n ): # n=4\n",
        "    start_time = time()\n",
        "    x = n * 2 # x = 8\n",
        "    y = 0   # y = 0\n",
        "    for m in range( 100 ): #3\n",
        "        y = x - n   # y = 4\n",
        "    elapsed_time = time() - start_time\n",
        "    print(\"Tiempo transcurrido: %0.10f segundos.\" % elapsed_time)\n",
        "    return y\n",
        "\n",
        "for entrada in range (100,1001,100):\n",
        "    ejemplo3(entrada)"
      ],
      "execution_count": 53,
      "outputs": [
        {
          "output_type": "stream",
          "text": [
            "Tiempo transcurrido: 0.0000045300 segundos.\n",
            "Tiempo transcurrido: 0.0000071526 segundos.\n",
            "Tiempo transcurrido: 0.0000088215 segundos.\n",
            "Tiempo transcurrido: 0.0000090599 segundos.\n",
            "Tiempo transcurrido: 0.0000088215 segundos.\n",
            "Tiempo transcurrido: 0.0000090599 segundos.\n",
            "Tiempo transcurrido: 0.0000083447 segundos.\n",
            "Tiempo transcurrido: 0.0000085831 segundos.\n",
            "Tiempo transcurrido: 0.0000088215 segundos.\n",
            "Tiempo transcurrido: 0.0000085831 segundos.\n"
          ],
          "name": "stdout"
        }
      ]
    },
    {
      "cell_type": "code",
      "metadata": {
        "id": "UWjbLBWyfvqW",
        "outputId": "b3d38c64-4bd2-4f32-fe22-7511fd1a5798",
        "colab": {
          "base_uri": "https://localhost:8080/",
          "height": 191
        }
      },
      "source": [
        "from time import time\n",
        "\n",
        "def ejemplo4( n ):\n",
        "    start_time = time()\n",
        "    x = 3 * 3.1416 + n\n",
        "    y = x + 3 * 3 - n\n",
        "    z = x + y\n",
        "    elapsed_time = time() - start_time\n",
        "    print(\"Tiempo transcurrido: %0.10f segundos.\" % elapsed_time)\n",
        "    return z\n",
        "\n",
        "for entrada in range (100,1001,100):\n",
        "    ejemplo4(entrada)"
      ],
      "execution_count": 52,
      "outputs": [
        {
          "output_type": "stream",
          "text": [
            "Tiempo transcurrido: 0.0000011921 segundos.\n",
            "Tiempo transcurrido: 0.0000009537 segundos.\n",
            "Tiempo transcurrido: 0.0000009537 segundos.\n",
            "Tiempo transcurrido: 0.0000007153 segundos.\n",
            "Tiempo transcurrido: 0.0000011921 segundos.\n",
            "Tiempo transcurrido: 0.0000009537 segundos.\n",
            "Tiempo transcurrido: 0.0000011921 segundos.\n",
            "Tiempo transcurrido: 0.0000009537 segundos.\n",
            "Tiempo transcurrido: 0.0000011921 segundos.\n",
            "Tiempo transcurrido: 0.0000011921 segundos.\n"
          ],
          "name": "stdout"
        }
      ]
    },
    {
      "cell_type": "code",
      "metadata": {
        "id": "bpnDF4wkf_FL",
        "outputId": "fc5a5c67-87e3-4772-eec9-5e6a21d66659",
        "colab": {
          "base_uri": "https://localhost:8080/",
          "height": 191
        }
      },
      "source": [
        "from time import time\n",
        "\n",
        "def ejemplo5( x ):\n",
        "    start_time = time()\n",
        "    n = 10\n",
        "    for j in range( 0 , x , 1 ):\n",
        "        n = j + n\n",
        "    elapsed_time = time() - start_time\n",
        "    print(\"Tiempo transcurrido: %0.10f segundos.\" % elapsed_time)\n",
        "    return n\n",
        "\n",
        "for entrada in range (100,1001,100):\n",
        "    ejemplo5( entrada )"
      ],
      "execution_count": 51,
      "outputs": [
        {
          "output_type": "stream",
          "text": [
            "Tiempo transcurrido: 0.0000085831 segundos.\n",
            "Tiempo transcurrido: 0.0000157356 segundos.\n",
            "Tiempo transcurrido: 0.0000221729 segundos.\n",
            "Tiempo transcurrido: 0.0000305176 segundos.\n",
            "Tiempo transcurrido: 0.0000448227 segundos.\n",
            "Tiempo transcurrido: 0.0000452995 segundos.\n",
            "Tiempo transcurrido: 0.0000455379 segundos.\n",
            "Tiempo transcurrido: 0.0000817776 segundos.\n",
            "Tiempo transcurrido: 0.0000841618 segundos.\n",
            "Tiempo transcurrido: 0.0000984669 segundos.\n"
          ],
          "name": "stdout"
        }
      ]
    },
    {
      "cell_type": "code",
      "metadata": {
        "id": "Jq7YyJaEiZJS"
      },
      "source": [
        "from time import time\n",
        "\n",
        "def ejemplo6( n ):\n",
        "    start_time = time()\n",
        "    data=[[[1 for x in range(n)] for x in range(n)]\n",
        "          for x in range(n)]\n",
        "    suma = 0\n",
        "    for d in range(n):\n",
        "        for r in range(n):\n",
        "            for c in range(n):\n",
        "                suma += data[d][r][c]\n",
        "    elapsed_time = time() - start_time\n",
        "    print(\"Tiempo transcurrido: %0.10f segundos.\" % elapsed_time)\n",
        "    return suma\n",
        "for entrada in range (100,1100,100):\n",
        "    ejemplo6( entrada )"
      ],
      "execution_count": null,
      "outputs": []
    },
    {
      "cell_type": "code",
      "metadata": {
        "id": "8sWG7DAenuXh",
        "outputId": "7ddebdd0-8003-4ab4-8808-68d3de1592f2",
        "colab": {
          "base_uri": "https://localhost:8080/",
          "height": 52
        }
      },
      "source": [
        "from time import time\n",
        "\n",
        "def ejemplo6( n ):\n",
        "    start_time = time()\n",
        "    data=[[[1 for x in range(n)] for x in range(n)] \n",
        "          for x in range(n)]\n",
        "    suma = 0\n",
        "    for d in range(n):\n",
        "        for r in range(n):\n",
        "            for c in range(n):\n",
        "                suma += data[d][r][c]\n",
        "    elapsed_time = time() - start_time\n",
        "    print(\"Tiempo transcurrido: %0.10f segundos.\" % elapsed_time)\n",
        "    return suma\n",
        "\n",
        "ejemplo6(1000)"
      ],
      "execution_count": 50,
      "outputs": [
        {
          "output_type": "stream",
          "text": [
            "Tiempo transcurrido: 159.7370793819 segundos.\n"
          ],
          "name": "stdout"
        },
        {
          "output_type": "execute_result",
          "data": {
            "text/plain": [
              "1000000000"
            ]
          },
          "metadata": {
            "tags": []
          },
          "execution_count": 50
        }
      ]
    }
  ]
}