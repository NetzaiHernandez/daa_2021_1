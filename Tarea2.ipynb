{
  "nbformat": 4,
  "nbformat_minor": 0,
  "metadata": {
    "colab": {
      "name": "Tarea2.ipynb",
      "provenance": [],
      "authorship_tag": "ABX9TyPm/zfzCnGthbM2Q24i/SZX",
      "include_colab_link": true
    },
    "kernelspec": {
      "name": "python3",
      "display_name": "Python 3"
    }
  },
  "cells": [
    {
      "cell_type": "markdown",
      "metadata": {
        "id": "view-in-github",
        "colab_type": "text"
      },
      "source": [
        "<a href=\"https://colab.research.google.com/github/NetzaiHernandez/daa_2021_1/blob/master/Tarea2.ipynb\" target=\"_parent\"><img src=\"https://colab.research.google.com/assets/colab-badge.svg\" alt=\"Open In Colab\"/></a>"
      ]
    },
    {
      "cell_type": "markdown",
      "metadata": {
        "id": "kt0f_S9ZSONG"
      },
      "source": [
        "# ejemplo de aplicacion de pilas\n",
        "\n",
        "x = a + 5 + 6 + 3 \n",
        "x = 4 + (5 + 6) + 3\n",
        "x = 4 + (5 + 6 + 3\n",
        "\n",
        "if(a==b) { System.out.println(b)}\n",
        "if(a==b) { System.out.println(b)}\n",
        "\n",
        "#reglas\n",
        "### \"(\"--> push('@')\n",
        "### \")\" --> pop()\n",
        "\n",
        "si al final del recorrido la pila esta vacia entonces la cadena es correcta\n",
        "Si en un pop desencadena en querer sacar un elemento de la pila vacia significa que la cadena no esta baleanceada \n",
        "\n",
        "Hacer un orograma que valide el valanceo de '( )','{ }' y ' []'\n",
        "en programas del lenguaje c y java"
      ]
    },
    {
      "cell_type": "code",
      "metadata": {
        "id": "1aRIzW_USJT-"
      },
      "source": [
        "class Stack:\n",
        "  def __init__( self ):\n",
        "    self.__datos=[]\n",
        "\n",
        "  def is_empty(self):\n",
        "    return len(self.__datos) == 0\n",
        "\n",
        "  def get_top(self):\n",
        "    return self.__datos[-1]\n",
        "\n",
        "  def pop(self):\n",
        "    return self.__datos.pop()\n",
        "\n",
        "  def push(self , valor):\n",
        "    self.__datos.append(valor)\n",
        "\n",
        "  def get_len(self):\n",
        "    return len(self.__datos)\n",
        "  \n",
        "  def to_string(self):\n",
        "    print(\"[----------------]\")\n",
        "    for ele in self.__datos[-1::-1]:\n",
        "      print(f\"{ele}\")\n",
        "    print(\"[----------------]\\n\")\n",
        "  "
      ],
      "execution_count": 32,
      "outputs": []
    },
    {
      "cell_type": "code",
      "metadata": {
        "id": "zb79IuTzSVe0",
        "outputId": "e0035d8c-31e0-40c2-a364-02f96c3b8096",
        "colab": {
          "base_uri": "https://localhost:8080/",
          "height": 69
        }
      },
      "source": [
        "pila1 = Stack() \n",
        "def verificar(cadena):\n",
        "    #print(cadena)\n",
        "    balanceada = True\n",
        "    i=0\n",
        "    while i < len(cadena) and balanceada:\n",
        "        simbolo = cadena[i]\n",
        "        if simbolo == (\"{\"):\n",
        "            pila1.push(\"@\")\n",
        "        elif simbolo == (\"[\"):\n",
        "          pila1.push(\"@\")\n",
        "        elif simbolo == (\"(\"):\n",
        "          pila1.push(\"@\")\n",
        "          \n",
        "        if ((\"}\"== simbolo or \"]\"== simbolo or \")\"== simbolo ) and pila1.get_len()== 0):\n",
        "            print(\"EL programa verficado no esta balanceado ¡¡¡CHECALO!!!\")\n",
        "            balanceada==False\n",
        "        else:\n",
        "            if simbolo == (\"}\"):\n",
        "              pila1.pop()\n",
        "            if simbolo == (\"]\"):\n",
        "              pila1.pop()\n",
        "            if simbolo == (\")\"):\n",
        "              pila1.pop()\n",
        "        \n",
        "        i = i + 1\n",
        "\n",
        "\n",
        "##programa de c++\n",
        "#print(verificar( \" #include <stdio.h> void main(){ float c,I,t,F; printf('Bienvenido. Calcularemos el capital final de un interes simple.\\n\\n'); printf('Por favor, introduce el capital inicial: '); scanf('%f',&c); printf('Ahora, escribe el interes al que esta colocado: '); scanf('%f',&I); printf('Por ultimo, inserta el tiempo al que se deja el capital: '); scanf('%f',&t); F=c+c*(I/100)*t; printf('\\n\\nEl capital final es de %f\\n\\n',F);}\"))\n",
        "##programa de java\n",
        "print(verificar(\"import java.util.*;public class Main {public static void main(String[] args) {Scanner sc = new Scanner(System.in);double gradosC, gradosF;System.out.println('Introduce grados Centígrados:');gradosC = sc.nextDouble();gradosF = 32 + (9 * gradosC / 5);System.out.println(gradosC +' ºC = ' + gradosF + ' ºF');}}\"))\n",
        "##linea con error no balanceada\n",
        "#print(verificar(\"if(a==b) { System.out.println(b)}]\"))\n",
        "print(\"Tu codigo esta valanceado si el programa finalizo con exito \\n Sino lo esta se emitira un mensaje arriba\")\n"
      ],
      "execution_count": 57,
      "outputs": [
        {
          "output_type": "stream",
          "text": [
            "None\n",
            "Tu codigo esta valanceado si el programa finalizo con exito \n",
            " Sino lo esta se emitira un mensaje arriba\n"
          ],
          "name": "stdout"
        }
      ]
    },
    {
      "cell_type": "code",
      "metadata": {
        "id": "B8ES714thyrD"
      },
      "source": [
        ""
      ],
      "execution_count": null,
      "outputs": []
    },
    {
      "cell_type": "markdown",
      "metadata": {
        "id": "-2_cdED0gu9r"
      },
      "source": [
        ""
      ]
    }
  ]
}