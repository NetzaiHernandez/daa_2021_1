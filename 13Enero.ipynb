{
  "nbformat": 4,
  "nbformat_minor": 0,
  "metadata": {
    "colab": {
      "name": "13Enero.ipynb",
      "provenance": [],
      "authorship_tag": "ABX9TyPNd/X3gxotzeUP9xsGIYDe",
      "include_colab_link": true
    },
    "kernelspec": {
      "name": "python3",
      "display_name": "Python 3"
    }
  },
  "cells": [
    {
      "cell_type": "markdown",
      "metadata": {
        "id": "view-in-github",
        "colab_type": "text"
      },
      "source": [
        "<a href=\"https://colab.research.google.com/github/NetzaiHernandez/daa_2021_1/blob/master/13Enero.ipynb\" target=\"_parent\"><img src=\"https://colab.research.google.com/assets/colab-badge.svg\" alt=\"Open In Colab\"/></a>"
      ]
    },
    {
      "cell_type": "code",
      "metadata": {
        "id": "I9Os5lXiZLZP"
      },
      "source": [
        "class NodoArbol:\r\n",
        " def __init__(self, value, left=None, right=None):\r\n",
        "  self.data=value\r\n",
        "  self.left=left\r\n",
        "  self.right=right"
      ],
      "execution_count": 65,
      "outputs": []
    },
    {
      "cell_type": "code",
      "metadata": {
        "id": "99TdMCBvS4aK"
      },
      "source": [
        "class BinarySearchTree:\n",
        "\n",
        "  def __init__(self):\n",
        "    self.__root=None\n",
        "\n",
        "  def insert(self, value):\n",
        "    if self.__root==None:\n",
        "       self.__root= NodoArbol(value,None,None)\n",
        "    else:\n",
        "      #preguntar si value es menor que root, de ser el caso\n",
        "      #insertar a la izq, pero puede ser el caso de que el \n",
        "      #sub arbol izq ya tenga muchos elementos\n",
        "      self.insert_nodo(self.__root,value)\n",
        "  \n",
        "  def insert_nodo(self,nodo,value):\n",
        "    if nodo.data==value:\n",
        "      pass\n",
        "    elif value<nodo.data: #true va a la izq\n",
        "      if nodo.left==None: #si hay espacio en la izq, ahi va\n",
        "        nodo.left=NodoArbol(value,None,None)#insertamos el nodo\n",
        "      else: \n",
        "        self.insert_nodo(nodo.left,value)#buscar el sub arbol izq\n",
        "    else:\n",
        "      if nodo.right==None:\n",
        "        nodo.right=NodoArbol(value,None,None)\n",
        "      else:\n",
        "        self.insert_nodo(nodo.right,value)##buscar en sub arbol der\n",
        "  \n",
        "  def buscar(self, value):\n",
        "     if self.__root==None:\n",
        "       return None\n",
        "     else:\n",
        "       #haremos busqueda recursiva\n",
        "       return self.__busca_nodo(self.__root,value)\n",
        "  \n",
        "  def __busca_nodo(self,nodo,value):\n",
        "     if nodo ==None:\n",
        "       return None\n",
        "     elif nodo.data==value:\n",
        "       return nodo.data\n",
        "     elif value< nodo.data:\n",
        "       return self.__busca_nodo(nodo.left,value)\n",
        "     else:\n",
        "       return self.__busca_nodo(nodo.right,value) \n",
        "  \n",
        "  def transversal(self,format=\"inorden\"):\n",
        "    if format ==\"inorden\":\n",
        "      self.__recorrido_in(self.__root)\n",
        "    elif format==\"preorden\":\n",
        "      self.__recorrido_pre(self.__root)\n",
        "    elif format ==\"posorden\":\n",
        "      self.__recorrido_pos(self.__root)\n",
        "    else:\n",
        "      print(\"Fotmato de recorrido no valido\")\n",
        "  \n",
        "  def __recorrido_pre(self, nodo):\n",
        "    if nodo != None:\n",
        "      print(nodo.data, end=\",\")\n",
        "      self.__recorrido_pre(nodo.left)\n",
        "      self.__recorrido_pre(nodo.right)\n",
        "  \n",
        "  def __recorrido_in(self, nodo):\n",
        "    if nodo != None:\n",
        "      self.__recorrido_in(nodo.left)\n",
        "      print(nodo.data, end=\",\")\n",
        "      self.__recorrido_in(nodo.right)\n",
        "  \n",
        "  def __recorrido_pos(self, nodo):\n",
        "    if nodo!= None:\n",
        "      self.__recorrido_pos(nodo.left)\n",
        "      self.__recorrido_pos(nodo.right)\n",
        "      print(nodo.data, end=\",\")\n",
        "    "
      ],
      "execution_count": 76,
      "outputs": []
    },
    {
      "cell_type": "code",
      "metadata": {
        "id": "oIm6T9MsbzmK",
        "colab": {
          "base_uri": "https://localhost:8080/"
        },
        "outputId": "ad28f5a4-bf95-48e3-a7cd-e0817f774d2f"
      },
      "source": [
        "bst=BinarySearchTree()\r\n",
        "bst.insert(50)\r\n",
        "bst.insert(30)\r\n",
        "bst.insert(20)\r\n",
        "res=bst.buscar(30)#true o false?\r\n",
        "print(\"Dato:\"+ str(res))\r\n",
        "print(bst.buscar(40))\r\n",
        "print(\"recorrido:\")\r\n",
        "bst.transversal(format=\"preorden\")\r\n",
        "print(\"\\n\")\r\n",
        "print(\"recorrido in orden:\")\r\n",
        "bst.transversal()\r\n",
        "print(\"\\n\")\r\n",
        "print(\"recorrido posorden:\")\r\n",
        "bst.transversal(format=\"posorden\")"
      ],
      "execution_count": 86,
      "outputs": [
        {
          "output_type": "stream",
          "text": [
            "Dato:30\n",
            "None\n",
            "recorrido:\n",
            "50,30,20,\n",
            "\n",
            "recorrido in orden:\n",
            "20,30,50,\n",
            "\n",
            "recorrido posorden:\n",
            "20,30,50,"
          ],
          "name": "stdout"
        }
      ]
    }
  ]
}