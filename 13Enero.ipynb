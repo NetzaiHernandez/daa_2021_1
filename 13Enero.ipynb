{
  "nbformat": 4,
  "nbformat_minor": 0,
  "metadata": {
    "colab": {
      "name": "13Enero.ipynb",
      "provenance": [],
      "authorship_tag": "ABX9TyMe/i8vemUQ5TxWwonekiZh",
      "include_colab_link": true
    },
    "kernelspec": {
      "name": "python3",
      "display_name": "Python 3"
    }
  },
  "cells": [
    {
      "cell_type": "markdown",
      "metadata": {
        "id": "view-in-github",
        "colab_type": "text"
      },
      "source": [
        "<a href=\"https://colab.research.google.com/github/NetzaiHernandez/daa_2021_1/blob/master/13Enero.ipynb\" target=\"_parent\"><img src=\"https://colab.research.google.com/assets/colab-badge.svg\" alt=\"Open In Colab\"/></a>"
      ]
    },
    {
      "cell_type": "code",
      "metadata": {
        "id": "I9Os5lXiZLZP"
      },
      "source": [
        "class NodoArbol:\r\n",
        "    def __init__( self , dato ,  hijo_izq=None , hijo_der=None):\r\n",
        "        self.dato = dato\r\n",
        "        self.left = hijo_izq\r\n",
        "        self.right = hijo_der"
      ],
      "execution_count": 1,
      "outputs": []
    },
    {
      "cell_type": "code",
      "metadata": {
        "id": "99TdMCBvS4aK"
      },
      "source": [
        "class BinarySearchTree:\r\n",
        "  def __init__(self):\r\n",
        "    self.__root = None\r\n",
        "  \r\n",
        "  def insert (self , value):\r\n",
        "    if self.__root == None:\r\n",
        "        self.__root == NodoArbol(value,None,None)\r\n",
        "    else:\r\n",
        "        #preguntar si value es menor que root, de ser el caso\r\n",
        "        #insertar a la izquierda....Puede ser el caso que el sun arbol\r\n",
        "        #izquierco ya tenga muchos elementos...\r\n",
        "        self.__insert_nodo__(self.__root,value)\r\n",
        "  \r\n",
        "\r\n",
        "  def __insert_nodo__(self,nodo,value):\r\n",
        "    if nodo.dato == value:\r\n",
        "        pass\r\n",
        "    elif value < nodo.data:#true va a la izq\r\n",
        "        if nodo.left == None:#si hay espacio a la izq ahi va\r\n",
        "          nodo.left = NodoArbol(value,None,None)#insertamos nodo\r\n",
        "\r\n",
        "        else:\r\n",
        "            self.__insert_nodo__(nodo.left,value)#buscar  en sub arbol izq\r\n",
        "    else:\r\n",
        "      if nodo.right == None:\r\n",
        "        nodo.right = NodoArbol(value, None,None)\r\n",
        "      else:\r\n",
        "        self.__insert_nodo__(nodo.right,value)#buscar  en sub arbol der"
      ],
      "execution_count": 2,
      "outputs": []
    },
    {
      "cell_type": "code",
      "metadata": {
        "id": "oIm6T9MsbzmK"
      },
      "source": [
        "bst=BinarySearchTree()\r\n",
        "bst.insert(50)\r\n",
        "bst.insert(30)\r\n",
        "bst.insert(20)\r\n",
        "#bst.search(50)#true o false"
      ],
      "execution_count": 3,
      "outputs": []
    }
  ]
}