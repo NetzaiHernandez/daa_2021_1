{
  "nbformat": 4,
  "nbformat_minor": 0,
  "metadata": {
    "colab": {
      "name": "Tarea8",
      "provenance": [],
      "authorship_tag": "ABX9TyM91k6scnQW0oJphH9UQ/wy",
      "include_colab_link": true
    },
    "kernelspec": {
      "name": "python3",
      "display_name": "Python 3"
    }
  },
  "cells": [
    {
      "cell_type": "markdown",
      "metadata": {
        "id": "view-in-github",
        "colab_type": "text"
      },
      "source": [
        "<a href=\"https://colab.research.google.com/github/NetzaiHernandez/daa_2021_1/blob/master/Tarea8.ipynb\" target=\"_parent\"><img src=\"https://colab.research.google.com/assets/colab-badge.svg\" alt=\"Open In Colab\"/></a>"
      ]
    },
    {
      "cell_type": "code",
      "metadata": {
        "id": "JGp-8is5PxoJ",
        "colab": {
          "base_uri": "https://localhost:8080/"
        },
        "outputId": "e7d5d463-cd60-4f7c-93f8-edae02ce5adb"
      },
      "source": [
        "alumno1={'id':2, 'nombre':\"Juan\" , 'carrera':\"ICO\", 'promedio':7.67}\n",
        "alumno2={'id':4, 'nombre':\"Rocio\" , 'carrera':\"ICI\", 'promedio':8.67}\n",
        "alumno3={'id':5, 'nombre':\"Diego\" , 'carrera':\"DER\", 'promedio':8.98}\n",
        "alumno4={'id':7, 'nombre':\"May\" , 'carrera':\"ICI\", 'promedio':9.87}\n",
        "alumno5={'id':9, 'nombre':\"Rob\" , 'carrera':\"IME\", 'promedio':10.00}\n",
        "alumno6={'id':10, 'nombre':\"Santi\" , 'carrera':\"ICO\", 'promedio':5.37}\n",
        "alumno7={'id':14, 'nombre':\"Moy\" , 'carrera':\"IME\", 'promedio':6.85}\n",
        "alumno8={'id':16, 'nombre':\"Diana\" , 'carrera':\"DER\", 'promedio':9.99}\n",
        "alumno9={'id':19, 'nombre':\"Zoila\" , 'carrera':\"ICO\", 'promedio':8.22}\n",
        "alumno10={'id':22, 'nombre':\"Armando\" , 'carrera':\"ICO\", 'promedio':7.32}\n",
        "\n",
        "\n",
        "bd = []\n",
        "bd.append(alumno1)\n",
        "bd.append(alumno2)\n",
        "bd.append(alumno3)\n",
        "bd.append(alumno4)\n",
        "bd.append(alumno5)\n",
        "bd.append(alumno6)\n",
        "bd.append(alumno7)\n",
        "bd.append(alumno8)\n",
        "bd.append(alumno9)\n",
        "bd.append(alumno10)\n",
        "\n",
        "\n",
        "\n",
        "dato= int(input(\"Cual es el ID que deseas buscar:\\n\"))\n",
        "min=0\n",
        "max=len(bd)-1\n",
        "\n",
        "def buscar(bd, dato,min,max):\n",
        "    try:\n",
        "        medio=(min+max)//2\n",
        "        if dato <= bd[medio]['id']:    \n",
        "            if dato == bd[medio]['id']:\n",
        "                print(f\"{bd[medio]['nombre']} estudia la carrera {bd[medio]['carrera']}  tiene un promedio de {bd[medio]['promedio']}\") \n",
        "            else:\n",
        "                medio-=1\n",
        "                buscar(bd, dato, min, medio)\n",
        "        elif dato> bd[medio]['id']:\n",
        "            if dato == bd[medio]['id'] and medio > 0:\n",
        "                print(f\"{bd[medio]['nombre']} estudia la carrera {bd[medio]['carrera']}  tiene un promedio de {bd[medio]['promedio']}\") \n",
        "            else:\n",
        "                medio+=1\n",
        "                buscar(bd, dato, medio, max)\n",
        "    except:\n",
        "        print(\"No  Existe \")\n",
        "\n",
        "\n",
        "buscar(bd, dato, min, max)\n"
      ],
      "execution_count": 4,
      "outputs": [
        {
          "output_type": "stream",
          "text": [
            "Cual es el ID que deseas buscar:\n",
            "22\n",
            "Armando estudia la carrera ICO  tiene un promedio de 7.32\n"
          ],
          "name": "stdout"
        }
      ]
    },
    {
      "cell_type": "code",
      "metadata": {
        "colab": {
          "base_uri": "https://localhost:8080/"
        },
        "id": "gTlQz0IcVIbb",
        "outputId": "11fcaa86-2ed8-4765-b81b-3b747a0e6ca8"
      },
      "source": [
        "alumno1={'id':2, 'nombre':\"Juan\" , 'carrera':\"ICO\", 'promedio':7.67}\n",
        "alumno2={'id':4, 'nombre':\"Rocio\" , 'carrera':\"ICI\", 'promedio':8.67}\n",
        "alumno3={'id':5, 'nombre':\"Diego\" , 'carrera':\"DER\", 'promedio':8.98}\n",
        "alumno4={'id':7, 'nombre':\"May\" , 'carrera':\"ICI\", 'promedio':9.87}\n",
        "alumno5={'id':9, 'nombre':\"Rob\" , 'carrera':\"IME\", 'promedio':10.00}\n",
        "alumno6={'id':10, 'nombre':\"Santi\" , 'carrera':\"ICO\", 'promedio':5.37}\n",
        "alumno7={'id':14, 'nombre':\"Moy\" , 'carrera':\"IME\", 'promedio':6.85}\n",
        "alumno8={'id':16, 'nombre':\"Diana\" , 'carrera':\"DER\", 'promedio':9.99}\n",
        "alumno9={'id':19, 'nombre':\"Zoila\" , 'carrera':\"ICO\", 'promedio':8.22}\n",
        "alumno10={'id':22, 'nombre':\"Armando\" , 'carrera':\"ICO\", 'promedio':7.32}\n",
        "\n",
        "\n",
        "bd = []\n",
        "bd.append(alumno1)\n",
        "bd.append(alumno2)\n",
        "bd.append(alumno3)\n",
        "bd.append(alumno4)\n",
        "bd.append(alumno5)\n",
        "bd.append(alumno6)\n",
        "bd.append(alumno7)\n",
        "bd.append(alumno8)\n",
        "bd.append(alumno9)\n",
        "bd.append(alumno10)\n",
        "\n",
        "\n",
        "\n",
        "dato= int(input(\"Cual es el ID que deseas buscar:\\n\"))\n",
        "min=0\n",
        "max=len(bd)-1\n",
        "\n",
        "def buscar(bd, dato,min,max):\n",
        "    try:\n",
        "        medio=(min+max)//2\n",
        "        if dato <= bd[medio]['id']:    \n",
        "            if dato == bd[medio]['id']:\n",
        "                print(f\"{bd[medio]['nombre']} estudia la carrera {bd[medio]['carrera']}  tiene un promedio de {bd[medio]['promedio']}\") \n",
        "            else:\n",
        "                medio-=1\n",
        "                buscar(bd, dato, min, medio)\n",
        "        elif dato> bd[medio]['id']:\n",
        "            if dato == bd[medio]['id'] and medio > 0:\n",
        "                print(f\"{bd[medio]['nombre']} estudia la carrera {bd[medio]['carrera']}  tiene un promedio de {bd[medio]['promedio']}\") \n",
        "            else:\n",
        "                medio+=1\n",
        "                buscar(bd, dato, medio, max)\n",
        "    except:\n",
        "        print(\"No Existe \")\n",
        "\n",
        "\n",
        "buscar(bd, dato, min, max)"
      ],
      "execution_count": 9,
      "outputs": [
        {
          "output_type": "stream",
          "text": [
            "Cual es el ID que deseas buscar:\n",
            "45\n",
            "No Existe \n"
          ],
          "name": "stdout"
        }
      ]
    }
  ]
}