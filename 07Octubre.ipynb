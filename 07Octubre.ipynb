{
  "nbformat": 4,
  "nbformat_minor": 0,
  "metadata": {
    "colab": {
      "name": "07Octubre.ipynb",
      "provenance": [],
      "authorship_tag": "ABX9TyPWsZH0oHKMJ9rzubHlGdw8",
      "include_colab_link": true
    },
    "kernelspec": {
      "name": "python3",
      "display_name": "Python 3"
    }
  },
  "cells": [
    {
      "cell_type": "markdown",
      "metadata": {
        "id": "view-in-github",
        "colab_type": "text"
      },
      "source": [
        "<a href=\"https://colab.research.google.com/github/NetzaiHernandez/daa_2021_1/blob/master/07Octubre.ipynb\" target=\"_parent\"><img src=\"https://colab.research.google.com/assets/colab-badge.svg\" alt=\"Open In Colab\"/></a>"
      ]
    },
    {
      "cell_type": "markdown",
      "metadata": {
        "id": "hFsggFgtX_K6"
      },
      "source": [
        "#Busqueda lineal.\n",
        "Dado un cojunto de datos o ordenados, la busqueda lineal consiste en recorrer el conjunto de datos desde el inicio al final, moviendose de uno en uno hasta encontrar el elemento o llegar al final del conjunto. datos=[4,18,47,2,34,14,78,12,48,21,31,19,13.5]\n",
        "\n",
        "# Busqueda binaria \n",
        "funciona sobre un conjunto de datos lineal ordenado.\n",
        "Consiste en dividir el conjunto en mitades y buscar en esa mitad si el elemento buscado no esta en la mitad , preguntas si el elemento esta a la derecha o a la izquierda .\n",
        "Haces la lista igual a la mitad correspondiente y repites el proceso\n",
        "L = [1, 2, 3, 4, 5, 12, 14, 18, 19, 21, 31, 34, 47, 48, 78]\n",
        "\n",
        "DER = longitud (L) -1\n",
        "\n",
        "IZQ = 0\n",
        "\n",
        "MID apuntara a la mitad del segamento de busqueda\n",
        "\n",
        "buscado es el valor a busacr en la lista\n",
        "\n",
        "1. Hacer DER = longitud (L) -1\n",
        "2. IZQ = 0\n",
        "3. Si IZQ > DER significa que hay un error d los datos\n",
        "4. calcular MID = int((IZQ + DER))/2 \n",
        "5. mientras L[MID] != buscado hacer \n",
        "6.        - preguntar L[MID] > buscado\n",
        "            - hacer DER  = MID\n",
        "          - de lo contrario\n",
        "            - hacer IZQ = MID\n",
        "          - preguntar (DER-IZQ)%2\n",
        "              - MID = (IZQ + ((DER-IZQ) /2))+1\n",
        "              - de lo contrario\n",
        "                MID = IZQ + ((DER - IZQ)/2)\n",
        "7. return MID\n",
        "\n",
        "\n",
        "\n"
      ]
    },
    {
      "cell_type": "code",
      "metadata": {
        "id": "HtgMYVpCVGkv"
      },
      "source": [
        "\"\"\"\n",
        "Busqueda lineal.\n",
        "regresa la posicion del elemento 'buscado' si se encuentra en la lista\n",
        "regresa -1 si el elemento no existe dentro de la lista\n",
        "\"\"\"\n",
        "def busq_lineal(L,buscado):\n",
        "  indice=-1\n",
        "  contador = 0\n",
        "  for idx in range(len(L)):\n",
        "    contador += 1\n",
        "    if L[idx]==buscado:\n",
        "      indice=idx\n",
        "      break\n",
        "  print(f\"numero de comparaciones realizadas{contador}\")\n",
        "  return indice\n",
        "\"\"\"\n",
        "Busqueda binaria\n",
        "\"\"\"\n",
        "\n",
        "def busqueda_binaria (L,buscado):\n",
        "  IZQ =0\n",
        "  DER = len(L)-1\n",
        "  MID = int((IZQ+DER)/2)\n",
        "  if len(L) % 2 == 0:\n",
        "    MID = (DER//2)+1\n",
        "  else:\n",
        "    MID = DER//2\n",
        "  \n",
        "  while ( L[MID] != buscado ):\n",
        "      if L[MID] > buscado:\n",
        "        DER = MID\n",
        "      else:\n",
        "        IZQ = MID\n",
        "      if (DER - IZQ) % 2 == 0:\n",
        "        MID = (IZQ +((DER - IZQ)//2))+1\n",
        "      else:\n",
        "        MID = IZQ + ((DER - IZQ)//2)-1\n",
        "  return MID\n",
        "\n",
        "\n",
        "def main():\n",
        "  datos=[4,18,47,2,34,14,78,12,48,21,31,19,1,3,5]\n",
        "  dato=int(input(\"¿Que valor quieres buscar?\"))\n",
        "  resultado= busq_lineal(datos,dato)\n",
        "  print(\"Resultado: \", resultado)\n",
        "\n",
        "\n",
        "  print(\"Busqueda lineal en una lista ordenada\")\n",
        "  datos.sort()\n",
        "  print(datos)\n",
        "  resultado = busq_lineal(datos,dato)\n",
        "  print(\"Resultado:\" , resultado)\n",
        "\n",
        "  print(\"busqueda bInaria\")\n",
        "  pisicion = busqueda_binaria(datos,dato)\n",
        "  print(f\"El elemento {dato} esta en la posicion de la lista\")\n",
        "\n",
        "main()"
      ],
      "execution_count": null,
      "outputs": []
    }
  ]
}