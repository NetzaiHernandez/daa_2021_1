{
  "nbformat": 4,
  "nbformat_minor": 0,
  "metadata": {
    "colab": {
      "name": "O2ctubre.ipynb",
      "provenance": [],
      "toc_visible": true,
      "authorship_tag": "ABX9TyNN3lhPeRvoHGgUwbxV75Go",
      "include_colab_link": true
    },
    "kernelspec": {
      "name": "python3",
      "display_name": "Python 3"
    }
  },
  "cells": [
    {
      "cell_type": "markdown",
      "metadata": {
        "id": "view-in-github",
        "colab_type": "text"
      },
      "source": [
        "<a href=\"https://colab.research.google.com/github/NetzaiHernandez/daa_2021_1/blob/master/O2ctubre.ipynb\" target=\"_parent\"><img src=\"https://colab.research.google.com/assets/colab-badge.svg\" alt=\"Open In Colab\"/></a>"
      ]
    },
    {
      "cell_type": "markdown",
      "metadata": {
        "id": "JK9MSAtkh7oV"
      },
      "source": [
        "# Meteorología en México\n",
        "En Sistema meteorológico nacional lleva el registro de la lluvias desde el año 1985 y lo pone a disposición de la población por medio de la pagina datos.gob.mx.\n",
        "\n",
        "En la siguiente liga se encuentran 2  archivos separados por comas CSV correspondientes a los registros de lluvias\n",
        "En los renglones se encuentran 33, correspondientes a cada cada uno de los 32 estados y a nivel nacional.\n",
        "\n",
        "https://drive.google.com/file/d/1lamkxgq2AsXRu81Y4JTNXLVld4og7nxt/view?usp=sharing\n",
        "\n",
        "## Planteamiento del problema\n",
        "Diseñar un algoritmo y programarlo para que:\n",
        "1. Solicite por teclado el año, el estado y el mes, en base a esa información:\n",
        "- muestre en pantalla el promedio de ese mes en ese estado en el año seleccionado.\n",
        "- muestre en pantalla el promedio anual del  estado seleccionado.\n",
        "- muestre la suma de los 12 meses de ese estado en el año selecc\n",
        "ionado.\n",
        "\n",
        "2. Busque el mes que mas llovió en todos los estados durante esos dos años. Imprimir año, estado y mes.\n",
        "3. Busque el mes que menos llovió en los dos. Imprimir año, estado y mes.\n"
      ]
    },
    {
      "cell_type": "code",
      "metadata": {
        "id": "fAgFHv7eh3dv",
        "outputId": "92ba884c-19e1-49fb-f1a5-e20dab410f91",
        "colab": {
          "base_uri": "https://localhost:8080/",
          "height": 322
        }
      },
      "source": [
        "import xlrd\n",
        "\n",
        "class Array3D:\n",
        "    def _init_(self,row,col,deep):\n",
        "        self.__x=row #Fila\n",
        "        self.__y=col  #Columna\n",
        "        self.__z=deep #Profundidad\n",
        "        self._cubo=[[[None for x in range(self.x)] for y in range(self.y)] for z in range(self._z)]\n",
        "\n",
        "    def to_string(self):\n",
        "        print(self.__cubo)\n",
        "    def get_num_x(self):\n",
        "        return self.__x\n",
        "    def get_num_y(self):\n",
        "        return self.__y\n",
        "    def get_num_z(self):\n",
        "        return self.__z\n",
        "    def set_item(self,x,y,z,value):\n",
        "        self.__cubo[z][y][x]=value\n",
        "    def get_item(self,x,y,z):\n",
        "        return self.__cubo[z][y][x]\n",
        "    def clearing(self,value):\n",
        "        for i in range(self.__z):\n",
        "            for j in range(self.__y):\n",
        "                for k in range(self.__x):\n",
        "                    self.__cubo[i][j][k]=value\n",
        "                    \n",
        "def main():        \n",
        "    data=Array3D(35,14,34)\n",
        "    print(\"espere un momento, se estan cargando los datos...\")\n",
        "    for anio in range(2016,2018):\n",
        "        for x in range(35):\n",
        "            for y in range(14):\n",
        "                if anio ==2017:\n",
        "                    Archivo = xlrd.open_workbook(\"/content/2017Precip.xls\")\n",
        "                    hoja=Archivo.sheet_by_index(0)\n",
        "                    data.set_item(x,y,anio-2016,hoja.cell_value(x,y))\n",
        "                elif anio == 2018:\n",
        "                    Archivo = xlrd.open_workbook(\"/content/2018Precip.xls\")\n",
        "                    hoja = Archivo.sheet_by_index(1)\n",
        "                    data.set_item(x,y,anio-2016,hoja.cell_value(x,y))\n",
        "        pass\n",
        "    Salida=False\n",
        "    regreso_al_menu_principal=False\n",
        "    regreso_al_menu=False\n",
        "    Anio=None\n",
        "    mes=None\n",
        "    estado=None\n",
        "    while Salida !=True:\n",
        "        anio=None\n",
        "        anio=int(input(\"Dijite el año del que quieres buscar la precipitacion:\"))\n",
        "        if anio > 2016 and anio <= 2018:\n",
        "            while regreso_al_menu_principal!=True:\n",
        "                estado=None\n",
        "                print(\"Dijite el estado o el nacional del que quiere informacion \")\n",
        "                for i in range(data.get_num_x()-2):\n",
        "                    print(f\"{i+1}) {data.get_item(i+2,0,anio-2016)}\")\n",
        "                    pass\n",
        "                estado=int(input(\"Opcion: \"))\n",
        "                if estado>=1 and estado<=33:\n",
        "                    while regreso_al_menu!=True:\n",
        "                        print(\"digite el mes o el total del que quiere saber la informacion\")\n",
        "                        for i in range(data.get_num_y()-1):\n",
        "                            print(f\"{i+1} {data.get_item(1,i+1,anio-2016)}\")\n",
        "                            pass\n",
        "                        mes=int(input(\"Opcion: \"))\n",
        "                        if mes>=1 and mes<=13:\n",
        "                            print(f\"La pricipitacion en el año {anio} del estado {data.get_item(estado+1,0,0)} del mes de {data.get_item(1,mes,0)} fue: {data.get_item(estado+1,mes,anio-1985)}\")\n",
        "                            pass\n",
        "                        elif mes==0:\n",
        "                            regreso_al_menu=True\n",
        "                            pass\n",
        "                        else:\n",
        "                            print(\"opcion equivocada\")\n",
        "                            pass\n",
        "                        pass\n",
        "                    regreso_al_menu=False\n",
        "                    pass\n",
        "                elif estado==0:\n",
        "                    regreso_al_menu_principal=True\n",
        "                    pass\n",
        "                else:\n",
        "                    print(\"Estado incorrecto\")\n",
        "                    pass\n",
        "                pass\n",
        "            regreso_al_menu_principal=False\n",
        "            pass#fin primer if\n",
        "        \n",
        "        elif anio==0:\n",
        "            print(\"fin del Programa\")\n",
        "            Salida=True\n",
        "            pass\n",
        "        \n",
        "        pass#fin while\n",
        "\n",
        "main()"
      ],
      "execution_count": 4,
      "outputs": [
        {
          "output_type": "error",
          "ename": "TypeError",
          "evalue": "ignored",
          "traceback": [
            "\u001b[0;31m---------------------------------------------------------------------------\u001b[0m",
            "\u001b[0;31mTypeError\u001b[0m                                 Traceback (most recent call last)",
            "\u001b[0;32m<ipython-input-4-46a183c60ad4>\u001b[0m in \u001b[0;36m<module>\u001b[0;34m()\u001b[0m\n\u001b[1;32m     98\u001b[0m         \u001b[0;32mpass\u001b[0m\u001b[0;31m#fin while\u001b[0m\u001b[0;34m\u001b[0m\u001b[0;34m\u001b[0m\u001b[0m\n\u001b[1;32m     99\u001b[0m \u001b[0;34m\u001b[0m\u001b[0m\n\u001b[0;32m--> 100\u001b[0;31m \u001b[0mmain\u001b[0m\u001b[0;34m(\u001b[0m\u001b[0;34m)\u001b[0m\u001b[0;34m\u001b[0m\u001b[0;34m\u001b[0m\u001b[0m\n\u001b[0m",
            "\u001b[0;32m<ipython-input-4-46a183c60ad4>\u001b[0m in \u001b[0;36mmain\u001b[0;34m()\u001b[0m\n\u001b[1;32m     27\u001b[0m \u001b[0;34m\u001b[0m\u001b[0m\n\u001b[1;32m     28\u001b[0m \u001b[0;32mdef\u001b[0m \u001b[0mmain\u001b[0m\u001b[0;34m(\u001b[0m\u001b[0;34m)\u001b[0m\u001b[0;34m:\u001b[0m\u001b[0;34m\u001b[0m\u001b[0;34m\u001b[0m\u001b[0m\n\u001b[0;32m---> 29\u001b[0;31m     \u001b[0mdata\u001b[0m\u001b[0;34m=\u001b[0m\u001b[0mArray3D\u001b[0m\u001b[0;34m(\u001b[0m\u001b[0;36m35\u001b[0m\u001b[0;34m,\u001b[0m\u001b[0;36m14\u001b[0m\u001b[0;34m,\u001b[0m\u001b[0;36m34\u001b[0m\u001b[0;34m)\u001b[0m\u001b[0;34m\u001b[0m\u001b[0;34m\u001b[0m\u001b[0m\n\u001b[0m\u001b[1;32m     30\u001b[0m     \u001b[0mprint\u001b[0m\u001b[0;34m(\u001b[0m\u001b[0;34m\"espere un momento, se estan cargando los datos...\"\u001b[0m\u001b[0;34m)\u001b[0m\u001b[0;34m\u001b[0m\u001b[0;34m\u001b[0m\u001b[0m\n\u001b[1;32m     31\u001b[0m     \u001b[0;32mfor\u001b[0m \u001b[0manio\u001b[0m \u001b[0;32min\u001b[0m \u001b[0mrange\u001b[0m\u001b[0;34m(\u001b[0m\u001b[0;36m2016\u001b[0m\u001b[0;34m,\u001b[0m\u001b[0;36m2018\u001b[0m\u001b[0;34m)\u001b[0m\u001b[0;34m:\u001b[0m\u001b[0;34m\u001b[0m\u001b[0;34m\u001b[0m\u001b[0m\n",
            "\u001b[0;31mTypeError\u001b[0m: object() takes no parameters"
          ]
        }
      ]
    }
  ]
}