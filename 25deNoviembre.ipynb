{
  "nbformat": 4,
  "nbformat_minor": 0,
  "metadata": {
    "colab": {
      "name": "25deNoviembre.ipynb",
      "provenance": [],
      "authorship_tag": "ABX9TyNG3MdI0FKOv7wMrYTYXYrT",
      "include_colab_link": true
    },
    "kernelspec": {
      "name": "python3",
      "display_name": "Python 3"
    }
  },
  "cells": [
    {
      "cell_type": "markdown",
      "metadata": {
        "id": "view-in-github",
        "colab_type": "text"
      },
      "source": [
        "<a href=\"https://colab.research.google.com/github/NetzaiHernandez/daa_2021_1/blob/master/25deNoviembre.ipynb\" target=\"_parent\"><img src=\"https://colab.research.google.com/assets/colab-badge.svg\" alt=\"Open In Colab\"/></a>"
      ]
    },
    {
      "cell_type": "code",
      "metadata": {
        "colab": {
          "base_uri": "https://localhost:8080/"
        },
        "id": "CTSOXs1o4vIV",
        "outputId": "4321f8b1-d0cc-4c69-95cb-a95bd9938f03"
      },
      "source": [
        "frase = \"\"\"El lema que anima a la Universidad Nacional, Por mi raza hablará el espíritu, revela la vocación humanística con la que fue concebida. El autor de esta célebre frase, José Vasconcelos, asumió la rectoría en 1920, en una época en que las esperanzas de la Revolución aún estaban vivas,\n",
        " había una gran fé en la Patria y el ánimo redentor se extendía en el ambiente.\"\"\"\n",
        "\n",
        "frase = frase.strip().replace(\"\\n\",\"\").replace(\",\",\"\").replace(\".\",\"\").lower().split(\" \")\n",
        "print(frase)\n",
        "frecuencias={}\n",
        "for index in range (len(frase)):\n",
        "  if frase[index] in frecuencias: \n",
        "    pass\n",
        "  else:\n",
        "    frecuencias [frase[index]] = 1\n",
        "    for pivote in range(index + 1,len(frase),1):\n",
        "      #print(frase[index],\"Comparada contra\", frase[pivote])\n",
        "      if frase[index] == frase[pivote]:\n",
        "        frecuencias[frase[index]] +=1\n",
        "\n",
        "print(frecuencias)\n"
      ],
      "execution_count": 11,
      "outputs": [
        {
          "output_type": "stream",
          "text": [
            "['el', 'lema', 'que', 'anima', 'a', 'la', 'universidad', 'nacional', 'por', 'mi', 'raza', 'hablará', 'el', 'espíritu', 'revela', 'la', 'vocación', 'humanística', 'con', 'la', 'que', 'fue', 'concebida', 'el', 'autor', 'de', 'esta', 'célebre', 'frase', 'josé', 'vasconcelos', 'asumió', 'la', 'rectoría', 'en', '1920', 'en', 'una', 'época', 'en', 'que', 'las', 'esperanzas', 'de', 'la', 'revolución', 'aún', 'estaban', 'vivas', 'había', 'una', 'gran', 'fé', 'en', 'la', 'patria', 'y', 'el', 'ánimo', 'redentor', 'se', 'extendía', 'en', 'el', 'ambiente']\n",
            "{'el': 5, 'lema': 1, 'que': 3, 'anima': 1, 'a': 1, 'la': 6, 'universidad': 1, 'nacional': 1, 'por': 1, 'mi': 1, 'raza': 1, 'hablará': 1, 'espíritu': 1, 'revela': 1, 'vocación': 1, 'humanística': 1, 'con': 1, 'fue': 1, 'concebida': 1, 'autor': 1, 'de': 2, 'esta': 1, 'célebre': 1, 'frase': 1, 'josé': 1, 'vasconcelos': 1, 'asumió': 1, 'rectoría': 1, 'en': 5, '1920': 1, 'una': 2, 'época': 1, 'las': 1, 'esperanzas': 1, 'revolución': 1, 'aún': 1, 'estaban': 1, 'vivas': 1, 'había': 1, 'gran': 1, 'fé': 1, 'patria': 1, 'y': 1, 'ánimo': 1, 'redentor': 1, 'se': 1, 'extendía': 1, 'ambiente': 1}\n"
          ],
          "name": "stdout"
        }
      ]
    },
    {
      "cell_type": "code",
      "metadata": {
        "colab": {
          "base_uri": "https://localhost:8080/"
        },
        "id": "Ct3AfhDH_MnT",
        "outputId": "571b2262-d1f0-4b82-83fc-c5c9a42a00d9"
      },
      "source": [
        "frase = \"\"\"El lema que anima a la Universidad Nacional, Por mi raza hablará el espíritu, revela la vocación humanística con la que fue concebida. El autor de esta célebre frase, José Vasconcelos, asumió la rectoría en 1920, en una época en que las esperanzas de la Revolución aún estaban vivas,\n",
        " había una gran fé en la Patria y el ánimo redentor se extendía en el ambiente.\"\"\"\n",
        "frase = frase.strip().replace(\"\\n\",\"\").replace(\",\",\"\").replace(\".\",\"\").lower().split(\" \")\n",
        "print(frase)\n",
        "frecuencias={}\n",
        "for index in range(len(frase)):\n",
        "  print(hash(frase[index]))\n",
        "  if frase[index] in frecuencias:\n",
        "      frecuencias[frase[index]] +=1\n",
        "  else:\n",
        "    frecuencias[frase[index]] = 1\n",
        "\n",
        "print(frecuencias)"
      ],
      "execution_count": 15,
      "outputs": [
        {
          "output_type": "stream",
          "text": [
            "['el', 'lema', 'que', 'anima', 'a', 'la', 'universidad', 'nacional', 'por', 'mi', 'raza', 'hablará', 'el', 'espíritu', 'revela', 'la', 'vocación', 'humanística', 'con', 'la', 'que', 'fue', 'concebida', 'el', 'autor', 'de', 'esta', 'célebre', 'frase', 'josé', 'vasconcelos', 'asumió', 'la', 'rectoría', 'en', '1920', 'en', 'una', 'época', 'en', 'que', 'las', 'esperanzas', 'de', 'la', 'revolución', 'aún', 'estaban', 'vivas', 'había', 'una', 'gran', 'fé', 'en', 'la', 'patria', 'y', 'el', 'ánimo', 'redentor', 'se', 'extendía', 'en', 'el', 'ambiente']\n",
            "-5850957978823075061\n",
            "-4578659927500947928\n",
            "-4184170556920501904\n",
            "-7650237919513883469\n",
            "-8614002726732100475\n",
            "8234509642527506913\n",
            "1639385155304497850\n",
            "2547781435070763194\n",
            "4791441770474846570\n",
            "-3406432188287329909\n",
            "-8728230006899711701\n",
            "-7041582463729684991\n",
            "-5850957978823075061\n",
            "156290811125934911\n",
            "-6568644559272320907\n",
            "8234509642527506913\n",
            "101460180885056788\n",
            "1909868316307128230\n",
            "6858588213088915171\n",
            "8234509642527506913\n",
            "-4184170556920501904\n",
            "4844895330657283226\n",
            "444643541654425305\n",
            "-5850957978823075061\n",
            "7697596062093697757\n",
            "3119325310992929535\n",
            "-6162934037257539813\n",
            "-8539871237659552386\n",
            "355221675240570888\n",
            "-676269520095040169\n",
            "4768740630764036819\n",
            "558591638821208172\n",
            "8234509642527506913\n",
            "-7357053992528672771\n",
            "-3886765883402961459\n",
            "5890580751092837612\n",
            "-3886765883402961459\n",
            "643117158370317169\n",
            "8391085673073703857\n",
            "-3886765883402961459\n",
            "-4184170556920501904\n",
            "7732008198579935909\n",
            "8286025865583474037\n",
            "3119325310992929535\n",
            "8234509642527506913\n",
            "4387521212217963253\n",
            "1036451012275218103\n",
            "-4844101127464195753\n",
            "-8286723570951580931\n",
            "4785202412865051101\n",
            "643117158370317169\n",
            "4487583188845670584\n",
            "214728651141103003\n",
            "-3886765883402961459\n",
            "8234509642527506913\n",
            "-5558154949488646599\n",
            "5881767283908250886\n",
            "-5850957978823075061\n",
            "9211862175998770333\n",
            "-6824907994447751404\n",
            "-5378870675474495609\n",
            "4730026130081304572\n",
            "-3886765883402961459\n",
            "-5850957978823075061\n",
            "-301059914483673109\n",
            "{'el': 5, 'lema': 1, 'que': 3, 'anima': 1, 'a': 1, 'la': 6, 'universidad': 1, 'nacional': 1, 'por': 1, 'mi': 1, 'raza': 1, 'hablará': 1, 'espíritu': 1, 'revela': 1, 'vocación': 1, 'humanística': 1, 'con': 1, 'fue': 1, 'concebida': 1, 'autor': 1, 'de': 2, 'esta': 1, 'célebre': 1, 'frase': 1, 'josé': 1, 'vasconcelos': 1, 'asumió': 1, 'rectoría': 1, 'en': 5, '1920': 1, 'una': 2, 'época': 1, 'las': 1, 'esperanzas': 1, 'revolución': 1, 'aún': 1, 'estaban': 1, 'vivas': 1, 'había': 1, 'gran': 1, 'fé': 1, 'patria': 1, 'y': 1, 'ánimo': 1, 'redentor': 1, 'se': 1, 'extendía': 1, 'ambiente': 1}\n"
          ],
          "name": "stdout"
        }
      ]
    }
  ]
}